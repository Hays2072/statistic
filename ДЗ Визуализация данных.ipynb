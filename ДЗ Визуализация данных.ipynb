{
 "cells": [
  {
   "cell_type": "code",
   "execution_count": 3,
   "metadata": {},
   "outputs": [],
   "source": [
    "import matplotlib.pyplot as plt\n",
    "import pandas as pd\n",
    "import numpy as np\n",
    "import seaborn as sns"
   ]
  },
  {
   "cell_type": "code",
   "execution_count": 4,
   "metadata": {},
   "outputs": [],
   "source": [
    "from pylab import rcParams\n",
    "rcParams['figure.figsize'] = 11,5\n",
    "DATASET_PATH_may = 'C://Users//Naruto//Desktop//Python//CallVoiceQuality_Data_2018_May.csv'\n",
    "DATASET_PATH_April = 'C://Users//Naruto//Desktop//Python//CallVoiceQualityExperience-2018-April.csv'"
   ]
  },
  {
   "cell_type": "markdown",
   "metadata": {},
   "source": [
    "### <center> Описание датасета.\n",
    "Эти данные собирают отзывы клиентов с помощью приложения MyCAll TRAI (регулирующий орган Индии в сфере телекоммуникаций) в мае и апреле 2018. Клиенты оценивают свое мнение о качестве голосовых вызовов в режиме реального времени и помогают TRAI собирать данные об опыте работы с клиентами вместе с данными сети.\n",
    "\n",
    "\n",
    "Данные собираются для различных поставщиков услуг, из разных мест, поколений сетей 3G, 4G, 2G, рейтингов, координат и т. д.\n",
    "Прилагаемые данные относятся к двум разным месяцам к маю и апрелю.\n",
    "   \n",
    "##### Расшифровка столбцов:\n",
    "    \tOperator - оператор\n",
    "        In Out Travelling - локация\t\n",
    "        Network Type - поколение сети\n",
    "        Rating - рейтинг\n",
    "        Call Drop Category - оценка качества вызова\n",
    "        Latitude - широта\t\n",
    "        Longitude - долгота\n",
    "        State Name - регион (штат)\n",
    "    \n",
    "  Если Latitude и Longitude равны -1 или 0 и State Name пустое значение это означает, что пользователь заблокировалдоступ к данным о местоположении.\n",
    "    "
   ]
  },
  {
   "cell_type": "code",
   "execution_count": 5,
   "metadata": {},
   "outputs": [],
   "source": [
    "df_may = pd.read_csv(DATASET_PATH_may)"
   ]
  },
  {
   "cell_type": "code",
   "execution_count": 6,
   "metadata": {},
   "outputs": [
    {
     "data": {
      "text/html": [
       "<div>\n",
       "<style scoped>\n",
       "    .dataframe tbody tr th:only-of-type {\n",
       "        vertical-align: middle;\n",
       "    }\n",
       "\n",
       "    .dataframe tbody tr th {\n",
       "        vertical-align: top;\n",
       "    }\n",
       "\n",
       "    .dataframe thead th {\n",
       "        text-align: right;\n",
       "    }\n",
       "</style>\n",
       "<table border=\"1\" class=\"dataframe\">\n",
       "  <thead>\n",
       "    <tr style=\"text-align: right;\">\n",
       "      <th></th>\n",
       "      <th>Operator</th>\n",
       "      <th>In Out Travelling</th>\n",
       "      <th>Network Type</th>\n",
       "      <th>Rating</th>\n",
       "      <th>Call Drop Category</th>\n",
       "      <th>Latitude</th>\n",
       "      <th>Longitude</th>\n",
       "      <th>State Name</th>\n",
       "    </tr>\n",
       "  </thead>\n",
       "  <tbody>\n",
       "    <tr>\n",
       "      <th>0</th>\n",
       "      <td>RJio</td>\n",
       "      <td>Travelling</td>\n",
       "      <td>4G</td>\n",
       "      <td>5</td>\n",
       "      <td>Satisfactory</td>\n",
       "      <td>-1.000000</td>\n",
       "      <td>-1.000000</td>\n",
       "      <td>NaN</td>\n",
       "    </tr>\n",
       "    <tr>\n",
       "      <th>1</th>\n",
       "      <td>RJio</td>\n",
       "      <td>Travelling</td>\n",
       "      <td>4G</td>\n",
       "      <td>2</td>\n",
       "      <td>Poor Voice Quality</td>\n",
       "      <td>28.593588</td>\n",
       "      <td>77.164276</td>\n",
       "      <td>NCT</td>\n",
       "    </tr>\n",
       "    <tr>\n",
       "      <th>2</th>\n",
       "      <td>BSNL</td>\n",
       "      <td>Indoor</td>\n",
       "      <td>3G</td>\n",
       "      <td>5</td>\n",
       "      <td>Satisfactory</td>\n",
       "      <td>-1.000000</td>\n",
       "      <td>-1.000000</td>\n",
       "      <td>NaN</td>\n",
       "    </tr>\n",
       "    <tr>\n",
       "      <th>3</th>\n",
       "      <td>BSNL</td>\n",
       "      <td>Indoor</td>\n",
       "      <td>3G</td>\n",
       "      <td>5</td>\n",
       "      <td>Satisfactory</td>\n",
       "      <td>-1.000000</td>\n",
       "      <td>-1.000000</td>\n",
       "      <td>NaN</td>\n",
       "    </tr>\n",
       "    <tr>\n",
       "      <th>4</th>\n",
       "      <td>BSNL</td>\n",
       "      <td>Indoor</td>\n",
       "      <td>3G</td>\n",
       "      <td>5</td>\n",
       "      <td>Satisfactory</td>\n",
       "      <td>-1.000000</td>\n",
       "      <td>-1.000000</td>\n",
       "      <td>NaN</td>\n",
       "    </tr>\n",
       "    <tr>\n",
       "      <th>...</th>\n",
       "      <td>...</td>\n",
       "      <td>...</td>\n",
       "      <td>...</td>\n",
       "      <td>...</td>\n",
       "      <td>...</td>\n",
       "      <td>...</td>\n",
       "      <td>...</td>\n",
       "      <td>...</td>\n",
       "    </tr>\n",
       "    <tr>\n",
       "      <th>31976</th>\n",
       "      <td>RJio</td>\n",
       "      <td>Indoor</td>\n",
       "      <td>4G</td>\n",
       "      <td>4</td>\n",
       "      <td>Satisfactory</td>\n",
       "      <td>20.979739</td>\n",
       "      <td>75.580521</td>\n",
       "      <td>Maharashtra</td>\n",
       "    </tr>\n",
       "    <tr>\n",
       "      <th>31977</th>\n",
       "      <td>Airtel</td>\n",
       "      <td>Indoor</td>\n",
       "      <td>4G</td>\n",
       "      <td>5</td>\n",
       "      <td>Satisfactory</td>\n",
       "      <td>17.438340</td>\n",
       "      <td>78.382000</td>\n",
       "      <td>Telangana</td>\n",
       "    </tr>\n",
       "    <tr>\n",
       "      <th>31978</th>\n",
       "      <td>RJio</td>\n",
       "      <td>Indoor</td>\n",
       "      <td>4G</td>\n",
       "      <td>5</td>\n",
       "      <td>Satisfactory</td>\n",
       "      <td>-1.000000</td>\n",
       "      <td>-1.000000</td>\n",
       "      <td>NaN</td>\n",
       "    </tr>\n",
       "    <tr>\n",
       "      <th>31979</th>\n",
       "      <td>RJio</td>\n",
       "      <td>Indoor</td>\n",
       "      <td>4G</td>\n",
       "      <td>5</td>\n",
       "      <td>Satisfactory</td>\n",
       "      <td>28.533182</td>\n",
       "      <td>77.216453</td>\n",
       "      <td>NCT</td>\n",
       "    </tr>\n",
       "    <tr>\n",
       "      <th>31980</th>\n",
       "      <td>BSNL</td>\n",
       "      <td>Indoor</td>\n",
       "      <td>Unknown</td>\n",
       "      <td>5</td>\n",
       "      <td>Satisfactory</td>\n",
       "      <td>17.406222</td>\n",
       "      <td>78.438804</td>\n",
       "      <td>Telangana</td>\n",
       "    </tr>\n",
       "  </tbody>\n",
       "</table>\n",
       "<p>31981 rows × 8 columns</p>\n",
       "</div>"
      ],
      "text/plain": [
       "      Operator In Out Travelling Network Type  Rating  Call Drop Category  \\\n",
       "0         RJio        Travelling           4G       5        Satisfactory   \n",
       "1         RJio        Travelling           4G       2  Poor Voice Quality   \n",
       "2         BSNL            Indoor           3G       5        Satisfactory   \n",
       "3         BSNL            Indoor           3G       5        Satisfactory   \n",
       "4         BSNL            Indoor           3G       5        Satisfactory   \n",
       "...        ...               ...          ...     ...                 ...   \n",
       "31976     RJio            Indoor           4G       4        Satisfactory   \n",
       "31977   Airtel            Indoor           4G       5        Satisfactory   \n",
       "31978     RJio            Indoor           4G       5        Satisfactory   \n",
       "31979     RJio            Indoor           4G       5        Satisfactory   \n",
       "31980     BSNL            Indoor      Unknown       5        Satisfactory   \n",
       "\n",
       "        Latitude  Longitude   State Name  \n",
       "0      -1.000000  -1.000000          NaN  \n",
       "1      28.593588  77.164276          NCT  \n",
       "2      -1.000000  -1.000000          NaN  \n",
       "3      -1.000000  -1.000000          NaN  \n",
       "4      -1.000000  -1.000000          NaN  \n",
       "...          ...        ...          ...  \n",
       "31976  20.979739  75.580521  Maharashtra  \n",
       "31977  17.438340  78.382000    Telangana  \n",
       "31978  -1.000000  -1.000000          NaN  \n",
       "31979  28.533182  77.216453          NCT  \n",
       "31980  17.406222  78.438804    Telangana  \n",
       "\n",
       "[31981 rows x 8 columns]"
      ]
     },
     "execution_count": 6,
     "metadata": {},
     "output_type": "execute_result"
    }
   ],
   "source": [
    "df_may"
   ]
  },
  {
   "cell_type": "code",
   "execution_count": 7,
   "metadata": {},
   "outputs": [
    {
     "data": {
      "text/html": [
       "<div>\n",
       "<style scoped>\n",
       "    .dataframe tbody tr th:only-of-type {\n",
       "        vertical-align: middle;\n",
       "    }\n",
       "\n",
       "    .dataframe tbody tr th {\n",
       "        vertical-align: top;\n",
       "    }\n",
       "\n",
       "    .dataframe thead th {\n",
       "        text-align: right;\n",
       "    }\n",
       "</style>\n",
       "<table border=\"1\" class=\"dataframe\">\n",
       "  <thead>\n",
       "    <tr style=\"text-align: right;\">\n",
       "      <th></th>\n",
       "      <th>Operator</th>\n",
       "      <th>Indoor_Outdoor_Travelling</th>\n",
       "      <th>Network Type</th>\n",
       "      <th>Rating</th>\n",
       "      <th>Call Drop Category</th>\n",
       "      <th>Latitude</th>\n",
       "      <th>Longitude</th>\n",
       "      <th>State Name</th>\n",
       "    </tr>\n",
       "  </thead>\n",
       "  <tbody>\n",
       "    <tr>\n",
       "      <th>0</th>\n",
       "      <td>Airtel</td>\n",
       "      <td>Indoor</td>\n",
       "      <td>3G</td>\n",
       "      <td>5</td>\n",
       "      <td>Satisfactory</td>\n",
       "      <td>28.422966</td>\n",
       "      <td>76.912324</td>\n",
       "      <td>Haryana</td>\n",
       "    </tr>\n",
       "    <tr>\n",
       "      <th>1</th>\n",
       "      <td>RJio</td>\n",
       "      <td>Indoor</td>\n",
       "      <td>4G</td>\n",
       "      <td>4</td>\n",
       "      <td>Satisfactory</td>\n",
       "      <td>11.158358</td>\n",
       "      <td>77.301897</td>\n",
       "      <td>Tamil Nadu</td>\n",
       "    </tr>\n",
       "    <tr>\n",
       "      <th>2</th>\n",
       "      <td>Airtel</td>\n",
       "      <td>Outdoor</td>\n",
       "      <td>3G</td>\n",
       "      <td>5</td>\n",
       "      <td>Satisfactory</td>\n",
       "      <td>28.422931</td>\n",
       "      <td>76.912253</td>\n",
       "      <td>Haryana</td>\n",
       "    </tr>\n",
       "    <tr>\n",
       "      <th>3</th>\n",
       "      <td>Airtel</td>\n",
       "      <td>Travelling</td>\n",
       "      <td>3G</td>\n",
       "      <td>5</td>\n",
       "      <td>Satisfactory</td>\n",
       "      <td>28.422947</td>\n",
       "      <td>76.912260</td>\n",
       "      <td>Haryana</td>\n",
       "    </tr>\n",
       "    <tr>\n",
       "      <th>4</th>\n",
       "      <td>RJio</td>\n",
       "      <td>Indoor</td>\n",
       "      <td>4G</td>\n",
       "      <td>5</td>\n",
       "      <td>Satisfactory</td>\n",
       "      <td>25.625990</td>\n",
       "      <td>85.094294</td>\n",
       "      <td>Bihar</td>\n",
       "    </tr>\n",
       "    <tr>\n",
       "      <th>...</th>\n",
       "      <td>...</td>\n",
       "      <td>...</td>\n",
       "      <td>...</td>\n",
       "      <td>...</td>\n",
       "      <td>...</td>\n",
       "      <td>...</td>\n",
       "      <td>...</td>\n",
       "      <td>...</td>\n",
       "    </tr>\n",
       "    <tr>\n",
       "      <th>63331</th>\n",
       "      <td>RJio</td>\n",
       "      <td>Indoor</td>\n",
       "      <td>4G</td>\n",
       "      <td>5</td>\n",
       "      <td>Satisfactory</td>\n",
       "      <td>26.855378</td>\n",
       "      <td>89.375578</td>\n",
       "      <td>West Bengal</td>\n",
       "    </tr>\n",
       "    <tr>\n",
       "      <th>63332</th>\n",
       "      <td>Airtel</td>\n",
       "      <td>Indoor</td>\n",
       "      <td>Unknown</td>\n",
       "      <td>3</td>\n",
       "      <td>Poor Network</td>\n",
       "      <td>19.408291</td>\n",
       "      <td>72.838735</td>\n",
       "      <td>Maharashtra</td>\n",
       "    </tr>\n",
       "    <tr>\n",
       "      <th>63333</th>\n",
       "      <td>Airtel</td>\n",
       "      <td>Travelling</td>\n",
       "      <td>Unknown</td>\n",
       "      <td>4</td>\n",
       "      <td>Satisfactory</td>\n",
       "      <td>19.408291</td>\n",
       "      <td>72.838735</td>\n",
       "      <td>Maharashtra</td>\n",
       "    </tr>\n",
       "    <tr>\n",
       "      <th>63334</th>\n",
       "      <td>Vodafone</td>\n",
       "      <td>Indoor</td>\n",
       "      <td>4G</td>\n",
       "      <td>4</td>\n",
       "      <td>Satisfactory</td>\n",
       "      <td>30.323117</td>\n",
       "      <td>78.001541</td>\n",
       "      <td>Uttarakhand</td>\n",
       "    </tr>\n",
       "    <tr>\n",
       "      <th>63335</th>\n",
       "      <td>RJio</td>\n",
       "      <td>Indoor</td>\n",
       "      <td>4G</td>\n",
       "      <td>5</td>\n",
       "      <td>Satisfactory</td>\n",
       "      <td>-1.000000</td>\n",
       "      <td>-1.000000</td>\n",
       "      <td>NaN</td>\n",
       "    </tr>\n",
       "  </tbody>\n",
       "</table>\n",
       "<p>63336 rows × 8 columns</p>\n",
       "</div>"
      ],
      "text/plain": [
       "       Operator Indoor_Outdoor_Travelling Network Type  Rating  \\\n",
       "0        Airtel                    Indoor           3G       5   \n",
       "1          RJio                    Indoor           4G       4   \n",
       "2        Airtel                   Outdoor           3G       5   \n",
       "3        Airtel                Travelling           3G       5   \n",
       "4          RJio                    Indoor           4G       5   \n",
       "...         ...                       ...          ...     ...   \n",
       "63331      RJio                    Indoor           4G       5   \n",
       "63332    Airtel                    Indoor      Unknown       3   \n",
       "63333    Airtel                Travelling      Unknown       4   \n",
       "63334  Vodafone                    Indoor           4G       4   \n",
       "63335      RJio                    Indoor           4G       5   \n",
       "\n",
       "      Call Drop Category   Latitude  Longitude   State Name  \n",
       "0           Satisfactory  28.422966  76.912324      Haryana  \n",
       "1           Satisfactory  11.158358  77.301897   Tamil Nadu  \n",
       "2           Satisfactory  28.422931  76.912253      Haryana  \n",
       "3           Satisfactory  28.422947  76.912260      Haryana  \n",
       "4           Satisfactory  25.625990  85.094294        Bihar  \n",
       "...                  ...        ...        ...          ...  \n",
       "63331       Satisfactory  26.855378  89.375578  West Bengal  \n",
       "63332       Poor Network  19.408291  72.838735  Maharashtra  \n",
       "63333       Satisfactory  19.408291  72.838735  Maharashtra  \n",
       "63334       Satisfactory  30.323117  78.001541  Uttarakhand  \n",
       "63335       Satisfactory  -1.000000  -1.000000          NaN  \n",
       "\n",
       "[63336 rows x 8 columns]"
      ]
     },
     "execution_count": 7,
     "metadata": {},
     "output_type": "execute_result"
    }
   ],
   "source": [
    "df_April = pd.read_csv(DATASET_PATH_April)\n",
    "df_April"
   ]
  },
  {
   "cell_type": "markdown",
   "metadata": {},
   "source": [
    "Для однотипности df_may и df_April. Заменим Poor Voice Quality на Poor Network в столбце Call Drop Category в df_may."
   ]
  },
  {
   "cell_type": "code",
   "execution_count": 8,
   "metadata": {},
   "outputs": [],
   "source": [
    "df_may['Call Drop Category'] = df_may['Call Drop Category'].replace('Poor Voice Quality', 'Poor Network')"
   ]
  },
  {
   "cell_type": "code",
   "execution_count": null,
   "metadata": {},
   "outputs": [],
   "source": []
  },
  {
   "cell_type": "markdown",
   "metadata": {},
   "source": [
    "Провери тип данных и количество пропусков по каждому столбцу"
   ]
  },
  {
   "cell_type": "code",
   "execution_count": 9,
   "metadata": {},
   "outputs": [
    {
     "name": "stdout",
     "output_type": "stream",
     "text": [
      "<class 'pandas.core.frame.DataFrame'>\n",
      "RangeIndex: 31981 entries, 0 to 31980\n",
      "Data columns (total 8 columns):\n",
      " #   Column              Non-Null Count  Dtype  \n",
      "---  ------              --------------  -----  \n",
      " 0   Operator            31981 non-null  object \n",
      " 1   In Out Travelling   31981 non-null  object \n",
      " 2   Network Type        31981 non-null  object \n",
      " 3   Rating              31981 non-null  int64  \n",
      " 4   Call Drop Category  31981 non-null  object \n",
      " 5   Latitude            31981 non-null  float64\n",
      " 6   Longitude           31981 non-null  float64\n",
      " 7   State Name          23299 non-null  object \n",
      "dtypes: float64(2), int64(1), object(5)\n",
      "memory usage: 2.0+ MB\n"
     ]
    }
   ],
   "source": [
    "df_may.info()"
   ]
  },
  {
   "cell_type": "code",
   "execution_count": 10,
   "metadata": {},
   "outputs": [
    {
     "name": "stdout",
     "output_type": "stream",
     "text": [
      "<class 'pandas.core.frame.DataFrame'>\n",
      "RangeIndex: 63336 entries, 0 to 63335\n",
      "Data columns (total 8 columns):\n",
      " #   Column                     Non-Null Count  Dtype  \n",
      "---  ------                     --------------  -----  \n",
      " 0   Operator                   63336 non-null  object \n",
      " 1   Indoor_Outdoor_Travelling  63336 non-null  object \n",
      " 2   Network Type               63336 non-null  object \n",
      " 3   Rating                     63336 non-null  int64  \n",
      " 4   Call Drop Category         63336 non-null  object \n",
      " 5   Latitude                   63336 non-null  float64\n",
      " 6   Longitude                  63336 non-null  float64\n",
      " 7   State Name                 47370 non-null  object \n",
      "dtypes: float64(2), int64(1), object(5)\n",
      "memory usage: 3.9+ MB\n"
     ]
    }
   ],
   "source": [
    "df_April.info()"
   ]
  },
  {
   "cell_type": "code",
   "execution_count": 11,
   "metadata": {},
   "outputs": [
    {
     "data": {
      "text/plain": [
       "Operator                 0\n",
       "In Out Travelling        0\n",
       "Network Type             0\n",
       "Rating                   0\n",
       "Call Drop Category       0\n",
       "Latitude                 0\n",
       "Longitude                0\n",
       "State Name            8682\n",
       "dtype: int64"
      ]
     },
     "execution_count": 11,
     "metadata": {},
     "output_type": "execute_result"
    }
   ],
   "source": [
    "df_may.isna().sum()\n",
    "#большое количество пропусков в столбце State Name"
   ]
  },
  {
   "cell_type": "code",
   "execution_count": 12,
   "metadata": {},
   "outputs": [
    {
     "data": {
      "text/plain": [
       "Operator                         0\n",
       "Indoor_Outdoor_Travelling        0\n",
       "Network Type                     0\n",
       "Rating                           0\n",
       "Call Drop Category               0\n",
       "Latitude                         0\n",
       "Longitude                        0\n",
       "State Name                   15966\n",
       "dtype: int64"
      ]
     },
     "execution_count": 12,
     "metadata": {},
     "output_type": "execute_result"
    }
   ],
   "source": [
    "df_April.isna().sum()\n",
    "#большое количество пропусков в столбце State Name"
   ]
  },
  {
   "cell_type": "markdown",
   "metadata": {},
   "source": [
    "Рассчитайте основные статистики для переменных (среднее,медиана,мода,мин/макс,сред.отклонение) можно только для столбцы Rating по обоим DF"
   ]
  },
  {
   "cell_type": "code",
   "execution_count": 13,
   "metadata": {},
   "outputs": [
    {
     "data": {
      "text/plain": [
       "count    31981.000000\n",
       "mean         3.496201\n",
       "std          1.454767\n",
       "min          1.000000\n",
       "25%          2.000000\n",
       "50%          4.000000\n",
       "75%          5.000000\n",
       "max          5.000000\n",
       "Name: Rating, dtype: float64"
      ]
     },
     "execution_count": 13,
     "metadata": {},
     "output_type": "execute_result"
    }
   ],
   "source": [
    "df_may[\"Rating\"].describe()\n"
   ]
  },
  {
   "cell_type": "code",
   "execution_count": 14,
   "metadata": {},
   "outputs": [
    {
     "data": {
      "text/plain": [
       "4.0"
      ]
     },
     "execution_count": 14,
     "metadata": {},
     "output_type": "execute_result"
    }
   ],
   "source": [
    "df_may[\"Rating\"].median()\n"
   ]
  },
  {
   "cell_type": "code",
   "execution_count": 15,
   "metadata": {},
   "outputs": [
    {
     "data": {
      "text/plain": [
       "count    63336.000000\n",
       "mean         3.449997\n",
       "std          1.450042\n",
       "min          1.000000\n",
       "25%          2.000000\n",
       "50%          4.000000\n",
       "75%          5.000000\n",
       "max          5.000000\n",
       "Name: Rating, dtype: float64"
      ]
     },
     "execution_count": 15,
     "metadata": {},
     "output_type": "execute_result"
    }
   ],
   "source": [
    "df_April[\"Rating\"].describe()"
   ]
  },
  {
   "cell_type": "code",
   "execution_count": 16,
   "metadata": {},
   "outputs": [
    {
     "data": {
      "text/plain": [
       "4.0"
      ]
     },
     "execution_count": 16,
     "metadata": {},
     "output_type": "execute_result"
    }
   ],
   "source": [
    "df_April[\"Rating\"].median()"
   ]
  },
  {
   "cell_type": "code",
   "execution_count": null,
   "metadata": {},
   "outputs": [],
   "source": []
  },
  {
   "cell_type": "code",
   "execution_count": null,
   "metadata": {},
   "outputs": [],
   "source": []
  },
  {
   "cell_type": "code",
   "execution_count": null,
   "metadata": {},
   "outputs": [],
   "source": []
  },
  {
   "cell_type": "markdown",
   "metadata": {},
   "source": [
    "### Подсчитаем изменения рейтинга за месяц. Определим компании у которых наблюдалось изменение рейтинга.\n"
   ]
  },
  {
   "cell_type": "code",
   "execution_count": 17,
   "metadata": {},
   "outputs": [],
   "source": [
    "#Подсчитаем средний рейтинг по операторам для каждого месяца и отсортируем по убыванию в апреле\n",
    "Rating_by_Operator_may= df_may[['Rating', 'Operator']].groupby('Operator').mean().round(2).sort_values(by='Rating', ascending=False)\n",
    "Rating_by_Operator_April= df_April[['Rating', 'Operator']].groupby('Operator').mean().round(2).sort_values(by='Rating', ascending=False)\n",
    "#объединим Rating_by_Operator_April и Rating_by_Operator_may\n",
    "Rating_by_Operator = Rating_by_Operator_April.join(Rating_by_Operator_may, rsuffix='Operator')\n",
    "Rating_by_Operator.rename(columns={'Rating': 'April', 'RatingOperator': 'May'}, inplace=True)\n"
   ]
  },
  {
   "cell_type": "code",
   "execution_count": 18,
   "metadata": {},
   "outputs": [
    {
     "data": {
      "text/html": [
       "<div>\n",
       "<style scoped>\n",
       "    .dataframe tbody tr th:only-of-type {\n",
       "        vertical-align: middle;\n",
       "    }\n",
       "\n",
       "    .dataframe tbody tr th {\n",
       "        vertical-align: top;\n",
       "    }\n",
       "\n",
       "    .dataframe thead th {\n",
       "        text-align: right;\n",
       "    }\n",
       "</style>\n",
       "<table border=\"1\" class=\"dataframe\">\n",
       "  <thead>\n",
       "    <tr style=\"text-align: right;\">\n",
       "      <th></th>\n",
       "      <th>April</th>\n",
       "      <th>May</th>\n",
       "      <th>Delta</th>\n",
       "    </tr>\n",
       "    <tr>\n",
       "      <th>Operator</th>\n",
       "      <th></th>\n",
       "      <th></th>\n",
       "      <th></th>\n",
       "    </tr>\n",
       "  </thead>\n",
       "  <tbody>\n",
       "    <tr>\n",
       "      <th>MTNL</th>\n",
       "      <td>3.27</td>\n",
       "      <td>5.00</td>\n",
       "      <td>1.73</td>\n",
       "    </tr>\n",
       "    <tr>\n",
       "      <th>Tata</th>\n",
       "      <td>3.40</td>\n",
       "      <td>3.83</td>\n",
       "      <td>0.43</td>\n",
       "    </tr>\n",
       "    <tr>\n",
       "      <th>Vodafone</th>\n",
       "      <td>3.38</td>\n",
       "      <td>3.61</td>\n",
       "      <td>0.23</td>\n",
       "    </tr>\n",
       "    <tr>\n",
       "      <th>Telenor</th>\n",
       "      <td>2.50</td>\n",
       "      <td>2.67</td>\n",
       "      <td>0.17</td>\n",
       "    </tr>\n",
       "    <tr>\n",
       "      <th>Idea</th>\n",
       "      <td>3.52</td>\n",
       "      <td>3.64</td>\n",
       "      <td>0.12</td>\n",
       "    </tr>\n",
       "    <tr>\n",
       "      <th>Airtel</th>\n",
       "      <td>3.25</td>\n",
       "      <td>3.34</td>\n",
       "      <td>0.09</td>\n",
       "    </tr>\n",
       "    <tr>\n",
       "      <th>RJio</th>\n",
       "      <td>3.57</td>\n",
       "      <td>3.55</td>\n",
       "      <td>-0.02</td>\n",
       "    </tr>\n",
       "    <tr>\n",
       "      <th>BSNL</th>\n",
       "      <td>3.54</td>\n",
       "      <td>3.37</td>\n",
       "      <td>-0.17</td>\n",
       "    </tr>\n",
       "    <tr>\n",
       "      <th>RComm</th>\n",
       "      <td>1.29</td>\n",
       "      <td>1.00</td>\n",
       "      <td>-0.29</td>\n",
       "    </tr>\n",
       "    <tr>\n",
       "      <th>Other</th>\n",
       "      <td>4.19</td>\n",
       "      <td>2.67</td>\n",
       "      <td>-1.52</td>\n",
       "    </tr>\n",
       "  </tbody>\n",
       "</table>\n",
       "</div>"
      ],
      "text/plain": [
       "          April   May  Delta\n",
       "Operator                    \n",
       "MTNL       3.27  5.00   1.73\n",
       "Tata       3.40  3.83   0.43\n",
       "Vodafone   3.38  3.61   0.23\n",
       "Telenor    2.50  2.67   0.17\n",
       "Idea       3.52  3.64   0.12\n",
       "Airtel     3.25  3.34   0.09\n",
       "RJio       3.57  3.55  -0.02\n",
       "BSNL       3.54  3.37  -0.17\n",
       "RComm      1.29  1.00  -0.29\n",
       "Other      4.19  2.67  -1.52"
      ]
     },
     "execution_count": 18,
     "metadata": {},
     "output_type": "execute_result"
    }
   ],
   "source": [
    "Rating_by_Operator['Delta'] = ((Rating_by_Operator.May - Rating_by_Operator.April))\n",
    "Rating_by_Operator.sort_values(by='Delta', ascending=False)"
   ]
  },
  {
   "cell_type": "code",
   "execution_count": 19,
   "metadata": {},
   "outputs": [
    {
     "data": {
      "text/plain": [
       "<AxesSubplot:title={'center':'Распределение изменения отзывов по операторам'}, xlabel='Оператор', ylabel='Изменение'>"
      ]
     },
     "execution_count": 19,
     "metadata": {},
     "output_type": "execute_result"
    },
    {
     "data": {
      "image/png": "[encoded data removed]",
      "text/plain": [
       "<Figure size 792x360 with 1 Axes>"
      ]
     },
     "metadata": {
      "needs_background": "light"
     },
     "output_type": "display_data"
    }
   ],
   "source": [
    "# Гистограмма по Delta\n",
    "Rating_by_Operator[\"Delta\"].plot(title='Распределение изменения отзывов по операторам', \n",
    "                             xlabel='Оператор', \n",
    "                             ylabel='Изменение')\n",
    "#оператор MTNL значительно улучшила, а RComm ухудшила качетство предоставляемого сервиса."
   ]
  },
  {
   "cell_type": "code",
   "execution_count": null,
   "metadata": {},
   "outputs": [],
   "source": []
  },
  {
   "cell_type": "code",
   "execution_count": 20,
   "metadata": {},
   "outputs": [
    {
     "data": {
      "text/plain": [
       "<AxesSubplot:title={'center':'Распределение оценок пользователей в апреле'}, ylabel='Frequency'>"
      ]
     },
     "execution_count": 20,
     "metadata": {},
     "output_type": "execute_result"
    },
    {
     "data": {
      "image/png": "[encoded data removed]",
      "text/plain": [
       "<Figure size 792x360 with 1 Axes>"
      ]
     },
     "metadata": {
      "needs_background": "light"
     },
     "output_type": "display_data"
    }
   ],
   "source": [
    "# распределение оценок пользователей\n",
    "\n",
    "df_April['Rating'].plot(kind='hist', \n",
    "                   title='Распределение оценок пользователей в апреле', bins=10)"
   ]
  },
  {
   "cell_type": "code",
   "execution_count": 21,
   "metadata": {},
   "outputs": [
    {
     "data": {
      "text/plain": [
       "<AxesSubplot:title={'center':'Распределение оценок пользователей в мае'}, ylabel='Frequency'>"
      ]
     },
     "execution_count": 21,
     "metadata": {},
     "output_type": "execute_result"
    },
    {
     "data": {
      "image/png": "[encoded data removed]",
      "text/plain": [
       "<Figure size 792x360 with 1 Axes>"
      ]
     },
     "metadata": {
      "needs_background": "light"
     },
     "output_type": "display_data"
    }
   ],
   "source": [
    "df_may['Rating'].plot(kind='hist', \n",
    "                   title='Распределение оценок пользователей в мае', bins=10)"
   ]
  },
  {
   "cell_type": "code",
   "execution_count": 22,
   "metadata": {},
   "outputs": [
    {
     "data": {
      "text/plain": [
       "<AxesSubplot:title={'center':'Распределение оценок пользователей'}, ylabel='Frequency'>"
      ]
     },
     "execution_count": 22,
     "metadata": {},
     "output_type": "execute_result"
    },
    {
     "data": {
      "image/png": "[encoded data removed]",
      "text/plain": [
       "<Figure size 792x360 with 1 Axes>"
      ]
     },
     "metadata": {
      "needs_background": "light"
     },
     "output_type": "display_data"
    }
   ],
   "source": [
    "# сравнение\n",
    "df_April['Rating'].plot(kind='hist', \n",
    "                     title='Распределение оценок пользователей',\n",
    "                     alpha = 0.5,\n",
    "                     bins=10,\n",
    "                     density = True)\n",
    "\n",
    "\n",
    "df_may['Rating'].plot(kind='hist', \n",
    "                     title='Распределение оценок пользователей',\n",
    "                     alpha = 0.5,\n",
    "                     bins=10,\n",
    "                     density = True)"
   ]
  },
  {
   "cell_type": "markdown",
   "metadata": {},
   "source": [
    "Вывод: в мае фиксируется прирост оценок со значением 5. Также в мае значительно меньшее количество оценок по сравнению с апрелем."
   ]
  },
  {
   "cell_type": "code",
   "execution_count": 23,
   "metadata": {},
   "outputs": [
    {
     "data": {
      "text/plain": [
       "Text(0.5, 1.0, 'Распределение оценок')"
      ]
     },
     "execution_count": 23,
     "metadata": {},
     "output_type": "execute_result"
    },
    {
     "data": {
      "image/png": "[encoded data removed]",
      "text/plain": [
       "<Figure size 792x360 with 1 Axes>"
      ]
     },
     "metadata": {
      "needs_background": "light"
     },
     "output_type": "display_data"
    }
   ],
   "source": [
    "sns.histplot(df_April['Rating'])\n",
    "plt.title('Распределение оценок')"
   ]
  },
  {
   "cell_type": "code",
   "execution_count": 24,
   "metadata": {},
   "outputs": [
    {
     "data": {
      "text/plain": [
       "<AxesSubplot:title={'center':'Распределение оценок пользователей за май'}>"
      ]
     },
     "execution_count": 24,
     "metadata": {},
     "output_type": "execute_result"
    },
    {
     "data": {
      "image/png": "[encoded data removed]",
      "text/plain": [
       "<Figure size 792x360 with 1 Axes>"
      ]
     },
     "metadata": {
      "needs_background": "light"
     },
     "output_type": "display_data"
    }
   ],
   "source": [
    "df_may['Rating'].plot(kind='box',\n",
    "                   title='Распределение оценок пользователей за май', grid=True)"
   ]
  },
  {
   "cell_type": "code",
   "execution_count": 25,
   "metadata": {},
   "outputs": [
    {
     "data": {
      "text/plain": [
       "<AxesSubplot:title={'center':'Распределение оценок пользователей за апрель'}>"
      ]
     },
     "execution_count": 25,
     "metadata": {},
     "output_type": "execute_result"
    },
    {
     "data": {
      "image/png": "[encoded data removed]",
      "text/plain": [
       "<Figure size 792x360 with 1 Axes>"
      ]
     },
     "metadata": {
      "needs_background": "light"
     },
     "output_type": "display_data"
    }
   ],
   "source": [
    "df_April['Rating'].plot(kind='box',\n",
    "                   title='Распределение оценок пользователей за апрель', grid=True)"
   ]
  },
  {
   "cell_type": "code",
   "execution_count": null,
   "metadata": {},
   "outputs": [],
   "source": []
  },
  {
   "cell_type": "markdown",
   "metadata": {},
   "source": [
    "### Анализ распределения оценок по операторам"
   ]
  },
  {
   "cell_type": "code",
   "execution_count": 26,
   "metadata": {},
   "outputs": [
    {
     "data": {
      "text/html": [
       "<div>\n",
       "<style scoped>\n",
       "    .dataframe tbody tr th:only-of-type {\n",
       "        vertical-align: middle;\n",
       "    }\n",
       "\n",
       "    .dataframe tbody tr th {\n",
       "        vertical-align: top;\n",
       "    }\n",
       "\n",
       "    .dataframe thead th {\n",
       "        text-align: right;\n",
       "    }\n",
       "</style>\n",
       "<table border=\"1\" class=\"dataframe\">\n",
       "  <thead>\n",
       "    <tr style=\"text-align: right;\">\n",
       "      <th></th>\n",
       "      <th>April</th>\n",
       "      <th>May</th>\n",
       "    </tr>\n",
       "    <tr>\n",
       "      <th>Operator</th>\n",
       "      <th></th>\n",
       "      <th></th>\n",
       "    </tr>\n",
       "  </thead>\n",
       "  <tbody>\n",
       "    <tr>\n",
       "      <th>RJio</th>\n",
       "      <td>25556</td>\n",
       "      <td>13664</td>\n",
       "    </tr>\n",
       "    <tr>\n",
       "      <th>Airtel</th>\n",
       "      <td>14899</td>\n",
       "      <td>7641</td>\n",
       "    </tr>\n",
       "    <tr>\n",
       "      <th>Vodafone</th>\n",
       "      <td>8469</td>\n",
       "      <td>4041</td>\n",
       "    </tr>\n",
       "    <tr>\n",
       "      <th>BSNL</th>\n",
       "      <td>8084</td>\n",
       "      <td>3528</td>\n",
       "    </tr>\n",
       "    <tr>\n",
       "      <th>Idea</th>\n",
       "      <td>5734</td>\n",
       "      <td>2825</td>\n",
       "    </tr>\n",
       "    <tr>\n",
       "      <th>RComm</th>\n",
       "      <td>217</td>\n",
       "      <td>2</td>\n",
       "    </tr>\n",
       "    <tr>\n",
       "      <th>Tata</th>\n",
       "      <td>197</td>\n",
       "      <td>224</td>\n",
       "    </tr>\n",
       "    <tr>\n",
       "      <th>MTNL</th>\n",
       "      <td>142</td>\n",
       "      <td>2</td>\n",
       "    </tr>\n",
       "    <tr>\n",
       "      <th>Other</th>\n",
       "      <td>36</td>\n",
       "      <td>9</td>\n",
       "    </tr>\n",
       "    <tr>\n",
       "      <th>Telenor</th>\n",
       "      <td>2</td>\n",
       "      <td>45</td>\n",
       "    </tr>\n",
       "  </tbody>\n",
       "</table>\n",
       "</div>"
      ],
      "text/plain": [
       "          April    May\n",
       "Operator              \n",
       "RJio      25556  13664\n",
       "Airtel    14899   7641\n",
       "Vodafone   8469   4041\n",
       "BSNL       8084   3528\n",
       "Idea       5734   2825\n",
       "RComm       217      2\n",
       "Tata        197    224\n",
       "MTNL        142      2\n",
       "Other        36      9\n",
       "Telenor       2     45"
      ]
     },
     "execution_count": 26,
     "metadata": {},
     "output_type": "execute_result"
    }
   ],
   "source": [
    "by_Operator_April= df_April[['Rating', 'Operator']].groupby('Operator').count().sort_values(by='Rating', ascending=False)\n",
    "by_Operator_may= df_may[['Rating', 'Operator']].groupby('Operator').count().sort_values(by='Rating', ascending=False)\n",
    "df_Operator = by_Operator_April.join(by_Operator_may, rsuffix='Operator')\n",
    "df_Operator.rename(columns={'Rating': 'April', 'RatingOperator': 'May'}, inplace=True)\n",
    "df_Operator"
   ]
  },
  {
   "cell_type": "code",
   "execution_count": 27,
   "metadata": {},
   "outputs": [
    {
     "data": {
      "text/plain": [
       "<AxesSubplot:title={'center':'Распределение отзывов по операторам'}, xlabel='Оператор', ylabel='Отзывы, шт.'>"
      ]
     },
     "execution_count": 27,
     "metadata": {},
     "output_type": "execute_result"
    },
    {
     "data": {
      "image/png": "[encoded data removed]",
      "text/plain": [
       "<Figure size 792x360 with 1 Axes>"
      ]
     },
     "metadata": {
      "needs_background": "light"
     },
     "output_type": "display_data"
    }
   ],
   "source": [
    "df_Operator.plot(title='Распределение отзывов по операторам', \n",
    "                             xlabel='Оператор', \n",
    "                             ylabel='Отзывы, шт.')\n"
   ]
  },
  {
   "cell_type": "code",
   "execution_count": 28,
   "metadata": {},
   "outputs": [
    {
     "ename": "AttributeError",
     "evalue": "'AxesSubplot' object has no attribute 'loc'",
     "output_type": "error",
     "traceback": [
      "\u001b[1;31m---------------------------------------------------------------------------\u001b[0m",
      "\u001b[1;31mAttributeError\u001b[0m                            Traceback (most recent call last)",
      "\u001b[1;32m<ipython-input-28-47b29ee31682>\u001b[0m in \u001b[0;36m<module>\u001b[1;34m\u001b[0m\n\u001b[1;32m----> 1\u001b[1;33m df_Operator.loc[['RJio', 'Airtel', 'Vodafone', 'BSNL', 'Idea']].plot(kind='bar', \n\u001b[0m\u001b[0;32m      2\u001b[0m                                                                   \u001b[0mtitle\u001b[0m\u001b[1;33m=\u001b[0m\u001b[1;34m'Топ 5 операторов по количеству отзывов'\u001b[0m\u001b[1;33m,\u001b[0m\u001b[1;33m\u001b[0m\u001b[1;33m\u001b[0m\u001b[0m\n\u001b[0;32m      3\u001b[0m                                                                   \u001b[0mxlabel\u001b[0m\u001b[1;33m=\u001b[0m\u001b[1;34m'Оператор'\u001b[0m\u001b[1;33m,\u001b[0m\u001b[1;33m\u001b[0m\u001b[1;33m\u001b[0m\u001b[0m\n\u001b[0;32m      4\u001b[0m                                                                   \u001b[0mylabel\u001b[0m\u001b[1;33m=\u001b[0m\u001b[1;34m'Количество отзывов'\u001b[0m\u001b[1;33m)\u001b[0m\u001b[1;33m.\u001b[0m\u001b[0mloc\u001b[0m\u001b[1;33m[\u001b[0m\u001b[1;33m[\u001b[0m\u001b[1;34m'RJio'\u001b[0m\u001b[1;33m,\u001b[0m \u001b[1;34m'Airtel'\u001b[0m\u001b[1;33m,\u001b[0m \u001b[1;34m'Vodafone'\u001b[0m\u001b[1;33m,\u001b[0m \u001b[1;34m'BSNL'\u001b[0m\u001b[1;33m,\u001b[0m \u001b[1;34m'Idea'\u001b[0m\u001b[1;33m]\u001b[0m\u001b[1;33m]\u001b[0m\u001b[1;33m.\u001b[0m\u001b[0mplot\u001b[0m\u001b[1;33m(\u001b[0m\u001b[0mkind\u001b[0m\u001b[1;33m=\u001b[0m\u001b[1;34m'bar'\u001b[0m\u001b[1;33m\u001b[0m\u001b[1;33m\u001b[0m\u001b[0m\n\u001b[0;32m      5\u001b[0m                                                                   )\n",
      "\u001b[1;31mAttributeError\u001b[0m: 'AxesSubplot' object has no attribute 'loc'"
     ]
    },
    {
     "data": {
      "image/png": "[encoded data removed]",
      "text/plain": [
       "<Figure size 792x360 with 1 Axes>"
      ]
     },
     "metadata": {
      "needs_background": "light"
     },
     "output_type": "display_data"
    }
   ],
   "source": [
    "df_Operator.loc[['RJio', 'Airtel', 'Vodafone', 'BSNL', 'Idea']].plot(kind='bar', \n",
    "                                                                  title='Топ 5 операторов по количеству отзывов',\n",
    "                                                                  xlabel='Оператор',\n",
    "                                                                  ylabel='Количество отзывов').loc[['RJio', 'Airtel', 'Vodafone', 'BSNL', 'Idea']].plot(kind='bar' \n",
    "                                                                  )\n"
   ]
  },
  {
   "cell_type": "code",
   "execution_count": 30,
   "metadata": {},
   "outputs": [],
   "source": [
    "df_Operator['ALL_otzyv'] = ((df_Operator.April + df_Operator.May))\n"
   ]
  },
  {
   "cell_type": "code",
   "execution_count": 31,
   "metadata": {},
   "outputs": [
    {
     "data": {
      "text/plain": [
       "<AxesSubplot:title={'center':'Распределение оценок по операторам'}, xlabel='Оператор', ylabel='Количество оценок'>"
      ]
     },
     "execution_count": 31,
     "metadata": {},
     "output_type": "execute_result"
    },
    {
     "data": {
      "image/png": "[encoded data removed]",
      "text/plain": [
       "<Figure size 792x360 with 1 Axes>"
      ]
     },
     "metadata": {
      "needs_background": "light"
     },
     "output_type": "display_data"
    }
   ],
   "source": [
    "df_Operator.drop('ALL_otzyv', axis=1).plot(kind='bar', \n",
    "                             title='Распределение оценок по операторам',\n",
    "                             xlabel='Оператор',\n",
    "                             ylabel='Количество оценок', stacked=True)                                         "
   ]
  },
  {
   "cell_type": "markdown",
   "metadata": {},
   "source": [
    "Вывод: Выделяются Топ 5 операторов по количеству оценок пользователей. По всем операторам есть снижение количества оценок."
   ]
  },
  {
   "cell_type": "markdown",
   "metadata": {},
   "source": [
    "### Подсчитаем средний рейтинг для различных локаций"
   ]
  },
  {
   "cell_type": "code",
   "execution_count": 32,
   "metadata": {},
   "outputs": [],
   "source": [
    "df_may.rename(columns={'In Out Travelling': 'Indoor_Outdoor_Travelling'}, inplace=True)\n"
   ]
  },
  {
   "cell_type": "code",
   "execution_count": 33,
   "metadata": {},
   "outputs": [
    {
     "data": {
      "text/html": [
       "<div>\n",
       "<style scoped>\n",
       "    .dataframe tbody tr th:only-of-type {\n",
       "        vertical-align: middle;\n",
       "    }\n",
       "\n",
       "    .dataframe tbody tr th {\n",
       "        vertical-align: top;\n",
       "    }\n",
       "\n",
       "    .dataframe thead th {\n",
       "        text-align: right;\n",
       "    }\n",
       "</style>\n",
       "<table border=\"1\" class=\"dataframe\">\n",
       "  <thead>\n",
       "    <tr style=\"text-align: right;\">\n",
       "      <th></th>\n",
       "      <th>April</th>\n",
       "      <th>May</th>\n",
       "    </tr>\n",
       "    <tr>\n",
       "      <th>Indoor_Outdoor_Travelling</th>\n",
       "      <th></th>\n",
       "      <th></th>\n",
       "    </tr>\n",
       "  </thead>\n",
       "  <tbody>\n",
       "    <tr>\n",
       "      <th>Indoor</th>\n",
       "      <td>3.44</td>\n",
       "      <td>3.46</td>\n",
       "    </tr>\n",
       "    <tr>\n",
       "      <th>Outdoor</th>\n",
       "      <td>3.42</td>\n",
       "      <td>3.61</td>\n",
       "    </tr>\n",
       "    <tr>\n",
       "      <th>Travelling</th>\n",
       "      <td>3.61</td>\n",
       "      <td>3.47</td>\n",
       "    </tr>\n",
       "  </tbody>\n",
       "</table>\n",
       "</div>"
      ],
      "text/plain": [
       "                           April   May\n",
       "Indoor_Outdoor_Travelling             \n",
       "Indoor                      3.44  3.46\n",
       "Outdoor                     3.42  3.61\n",
       "Travelling                  3.61  3.47"
      ]
     },
     "execution_count": 33,
     "metadata": {},
     "output_type": "execute_result"
    }
   ],
   "source": [
    "Travelling_may= df_may[['Rating', 'Indoor_Outdoor_Travelling']].groupby('Indoor_Outdoor_Travelling').mean().round(2)\n",
    "Travelling_April= df_April[['Rating', 'Indoor_Outdoor_Travelling']].groupby('Indoor_Outdoor_Travelling').mean().round(2)\n",
    "df_Rating = Travelling_April.join(Travelling_may, rsuffix='Indoor_Outdoor_Travelling')\n",
    "df_Rating.rename(columns={'Rating': 'April', 'RatingIndoor_Outdoor_Travelling': 'May'}, inplace=True)\n",
    "df_Rating"
   ]
  },
  {
   "cell_type": "code",
   "execution_count": 34,
   "metadata": {},
   "outputs": [
    {
     "ename": "AttributeError",
     "evalue": "'AxesSubplot' object has no attribute 'loc'",
     "output_type": "error",
     "traceback": [
      "\u001b[1;31m---------------------------------------------------------------------------\u001b[0m",
      "\u001b[1;31mAttributeError\u001b[0m                            Traceback (most recent call last)",
      "\u001b[1;32m<ipython-input-34-5fd8df74a8b6>\u001b[0m in \u001b[0;36m<module>\u001b[1;34m\u001b[0m\n\u001b[1;32m----> 1\u001b[1;33m df_Rating.loc[['Indoor', 'Outdoor', 'Travelling']].plot(kind='bar', \n\u001b[0m\u001b[0;32m      2\u001b[0m                                                                   \u001b[0mtitle\u001b[0m\u001b[1;33m=\u001b[0m\u001b[1;34m'Распределение оценки в зависимости от локации'\u001b[0m\u001b[1;33m,\u001b[0m\u001b[1;33m\u001b[0m\u001b[1;33m\u001b[0m\u001b[0m\n\u001b[0;32m      3\u001b[0m                                                                   \u001b[0mxlabel\u001b[0m\u001b[1;33m=\u001b[0m\u001b[1;34m'Локация'\u001b[0m\u001b[1;33m,\u001b[0m\u001b[1;33m\u001b[0m\u001b[1;33m\u001b[0m\u001b[0m\n\u001b[0;32m      4\u001b[0m                                                                   ylabel='Количество отзывов').loc[['Indoor', 'Outdoor', 'Travelling']].plot(kind='bar') \n\u001b[0;32m      5\u001b[0m \u001b[1;33m\u001b[0m\u001b[0m\n",
      "\u001b[1;31mAttributeError\u001b[0m: 'AxesSubplot' object has no attribute 'loc'"
     ]
    },
    {
     "data": {
      "image/png": "[encoded data removed]",
      "text/plain": [
       "<Figure size 792x360 with 1 Axes>"
      ]
     },
     "metadata": {
      "needs_background": "light"
     },
     "output_type": "display_data"
    }
   ],
   "source": [
    "df_Rating.loc[['Indoor', 'Outdoor', 'Travelling']].plot(kind='bar', \n",
    "                                                                  title='Распределение оценки в зависимости от локации',\n",
    "                                                                  xlabel='Локация',\n",
    "                                                                  ylabel='Количество отзывов').loc[['Indoor', 'Outdoor', 'Travelling']].plot(kind='bar') \n",
    "                                                "
   ]
  },
  {
   "cell_type": "code",
   "execution_count": null,
   "metadata": {},
   "outputs": [],
   "source": []
  },
  {
   "cell_type": "code",
   "execution_count": 35,
   "metadata": {},
   "outputs": [
    {
     "data": {
      "text/html": [
       "<div>\n",
       "<style scoped>\n",
       "    .dataframe tbody tr th:only-of-type {\n",
       "        vertical-align: middle;\n",
       "    }\n",
       "\n",
       "    .dataframe tbody tr th {\n",
       "        vertical-align: top;\n",
       "    }\n",
       "\n",
       "    .dataframe thead th {\n",
       "        text-align: right;\n",
       "    }\n",
       "</style>\n",
       "<table border=\"1\" class=\"dataframe\">\n",
       "  <thead>\n",
       "    <tr style=\"text-align: right;\">\n",
       "      <th></th>\n",
       "      <th>April</th>\n",
       "      <th>May</th>\n",
       "      <th>April_%</th>\n",
       "      <th>May_%</th>\n",
       "    </tr>\n",
       "    <tr>\n",
       "      <th>Indoor_Outdoor_Travelling</th>\n",
       "      <th></th>\n",
       "      <th></th>\n",
       "      <th></th>\n",
       "      <th></th>\n",
       "    </tr>\n",
       "  </thead>\n",
       "  <tbody>\n",
       "    <tr>\n",
       "      <th>Indoor</th>\n",
       "      <td>42411</td>\n",
       "      <td>21277</td>\n",
       "      <td>67.0</td>\n",
       "      <td>66.5</td>\n",
       "    </tr>\n",
       "    <tr>\n",
       "      <th>Outdoor</th>\n",
       "      <td>15032</td>\n",
       "      <td>7391</td>\n",
       "      <td>23.7</td>\n",
       "      <td>23.1</td>\n",
       "    </tr>\n",
       "    <tr>\n",
       "      <th>Travelling</th>\n",
       "      <td>5893</td>\n",
       "      <td>3313</td>\n",
       "      <td>9.3</td>\n",
       "      <td>10.4</td>\n",
       "    </tr>\n",
       "  </tbody>\n",
       "</table>\n",
       "</div>"
      ],
      "text/plain": [
       "                           April    May  April_%  May_%\n",
       "Indoor_Outdoor_Travelling                              \n",
       "Indoor                     42411  21277     67.0   66.5\n",
       "Outdoor                    15032   7391     23.7   23.1\n",
       "Travelling                  5893   3313      9.3   10.4"
      ]
     },
     "execution_count": 35,
     "metadata": {},
     "output_type": "execute_result"
    }
   ],
   "source": [
    "# Количество оценок по локациям\n",
    "Travelling_may_count= df_may[['Rating', 'Indoor_Outdoor_Travelling']].groupby('Indoor_Outdoor_Travelling').count()\n",
    "Travelling_April_count= df_April[['Rating', 'Indoor_Outdoor_Travelling']].groupby('Indoor_Outdoor_Travelling').count()\n",
    "Travelling_count = Travelling_April_count.join(Travelling_may_count, rsuffix='Indoor_Outdoor_Travelling')\n",
    "Travelling_count.rename(columns={'Rating': 'April', 'RatingIndoor_Outdoor_Travelling': 'May'}, inplace=True)\n",
    "Travelling_count['April_%'] = ((Travelling_count.April/63336)*100).round(1)       \n",
    "Travelling_count['May_%'] = ((Travelling_count.May/31981)*100).round(1)    \n",
    "Travelling_count"
   ]
  },
  {
   "cell_type": "code",
   "execution_count": null,
   "metadata": {},
   "outputs": [],
   "source": []
  },
  {
   "cell_type": "code",
   "execution_count": 36,
   "metadata": {},
   "outputs": [
    {
     "data": {
      "text/plain": [
       "<AxesSubplot:title={'center':'Количество оценок по локациям за апрель'}, ylabel='April'>"
      ]
     },
     "execution_count": 36,
     "metadata": {},
     "output_type": "execute_result"
    },
    {
     "data": {
      "image/png": "[encoded data removed]",
      "text/plain": [
       "<Figure size 792x360 with 1 Axes>"
      ]
     },
     "metadata": {},
     "output_type": "display_data"
    }
   ],
   "source": [
    "colors = ['blue','green','red']\n",
    "explode = [0,0,0.3]\n",
    "Travelling_count['April'].plot(kind='pie', colors=colors, explode=explode, title='Количество оценок по локациям за апрель')\n",
    "\n"
   ]
  },
  {
   "cell_type": "code",
   "execution_count": 37,
   "metadata": {},
   "outputs": [
    {
     "data": {
      "text/plain": [
       "<AxesSubplot:title={'center':'Количество оценок по локациям за май'}, ylabel='May'>"
      ]
     },
     "execution_count": 37,
     "metadata": {},
     "output_type": "execute_result"
    },
    {
     "data": {
      "image/png": "[encoded data removed]",
      "text/plain": [
       "<Figure size 792x360 with 1 Axes>"
      ]
     },
     "metadata": {},
     "output_type": "display_data"
    }
   ],
   "source": [
    "colors = ['blue','green','red']\n",
    "explode = [0,0,0.3]\n",
    "values = [66,23,10] #не нашел способа нанести проценты на диаграмму\n",
    "Travelling_count['May'].plot(kind='pie', colors=colors, explode=explode, title='Количество оценок по локациям за май')\n"
   ]
  },
  {
   "cell_type": "markdown",
   "metadata": {},
   "source": [
    "Вывод: Более 60% оценок производится в Indoor. В мае увеличилась доля измерений в локации Travelling на 1.1% и уменьшилась доля Indoor на 0,5% "
   ]
  },
  {
   "cell_type": "markdown",
   "metadata": {},
   "source": [
    "### Анализ оценок по категориям"
   ]
  },
  {
   "cell_type": "code",
   "execution_count": 38,
   "metadata": {},
   "outputs": [
    {
     "data": {
      "text/html": [
       "<div>\n",
       "<style scoped>\n",
       "    .dataframe tbody tr th:only-of-type {\n",
       "        vertical-align: middle;\n",
       "    }\n",
       "\n",
       "    .dataframe tbody tr th {\n",
       "        vertical-align: top;\n",
       "    }\n",
       "\n",
       "    .dataframe thead th {\n",
       "        text-align: right;\n",
       "    }\n",
       "</style>\n",
       "<table border=\"1\" class=\"dataframe\">\n",
       "  <thead>\n",
       "    <tr style=\"text-align: right;\">\n",
       "      <th></th>\n",
       "      <th>April</th>\n",
       "      <th>May</th>\n",
       "    </tr>\n",
       "    <tr>\n",
       "      <th>Call Drop Category</th>\n",
       "      <th></th>\n",
       "      <th></th>\n",
       "    </tr>\n",
       "  </thead>\n",
       "  <tbody>\n",
       "    <tr>\n",
       "      <th>Call Dropped</th>\n",
       "      <td>1.29</td>\n",
       "      <td>1.26</td>\n",
       "    </tr>\n",
       "    <tr>\n",
       "      <th>Poor Network</th>\n",
       "      <td>1.68</td>\n",
       "      <td>1.68</td>\n",
       "    </tr>\n",
       "    <tr>\n",
       "      <th>Satisfactory</th>\n",
       "      <td>4.11</td>\n",
       "      <td>4.36</td>\n",
       "    </tr>\n",
       "  </tbody>\n",
       "</table>\n",
       "</div>"
      ],
      "text/plain": [
       "                    April   May\n",
       "Call Drop Category             \n",
       "Call Dropped         1.29  1.26\n",
       "Poor Network         1.68  1.68\n",
       "Satisfactory         4.11  4.36"
      ]
     },
     "execution_count": 38,
     "metadata": {},
     "output_type": "execute_result"
    }
   ],
   "source": [
    "#средняя оценка по категориям\n",
    "df_may_Call_may= df_may[['Rating', 'Call Drop Category']].groupby('Call Drop Category').mean().round(2)\n",
    "df_may_Call_April= df_April[['Rating', 'Call Drop Category']].groupby('Call Drop Category').mean().round(2)\n",
    "Call_Rating = df_may_Call_April.join(df_may_Call_may, rsuffix='Call Drop Category')\n",
    "Call_Rating.rename(columns={'Rating': 'April', 'RatingCall Drop Category': 'May'}, inplace=True)\n",
    "Call_Rating"
   ]
  },
  {
   "cell_type": "code",
   "execution_count": 39,
   "metadata": {},
   "outputs": [
    {
     "data": {
      "text/html": [
       "<div>\n",
       "<style scoped>\n",
       "    .dataframe tbody tr th:only-of-type {\n",
       "        vertical-align: middle;\n",
       "    }\n",
       "\n",
       "    .dataframe tbody tr th {\n",
       "        vertical-align: top;\n",
       "    }\n",
       "\n",
       "    .dataframe thead th {\n",
       "        text-align: right;\n",
       "    }\n",
       "</style>\n",
       "<table border=\"1\" class=\"dataframe\">\n",
       "  <thead>\n",
       "    <tr style=\"text-align: right;\">\n",
       "      <th></th>\n",
       "      <th>April</th>\n",
       "      <th>May</th>\n",
       "    </tr>\n",
       "    <tr>\n",
       "      <th>Call Drop Category</th>\n",
       "      <th></th>\n",
       "      <th></th>\n",
       "    </tr>\n",
       "  </thead>\n",
       "  <tbody>\n",
       "    <tr>\n",
       "      <th>Call Dropped</th>\n",
       "      <td>5104</td>\n",
       "      <td>2319</td>\n",
       "    </tr>\n",
       "    <tr>\n",
       "      <th>Poor Network</th>\n",
       "      <td>11257</td>\n",
       "      <td>7660</td>\n",
       "    </tr>\n",
       "    <tr>\n",
       "      <th>Satisfactory</th>\n",
       "      <td>46975</td>\n",
       "      <td>22002</td>\n",
       "    </tr>\n",
       "  </tbody>\n",
       "</table>\n",
       "</div>"
      ],
      "text/plain": [
       "                    April    May\n",
       "Call Drop Category              \n",
       "Call Dropped         5104   2319\n",
       "Poor Network        11257   7660\n",
       "Satisfactory        46975  22002"
      ]
     },
     "execution_count": 39,
     "metadata": {},
     "output_type": "execute_result"
    }
   ],
   "source": [
    "#суммарное количество оценок по категориям\n",
    "df_may_Call_count_may= df_may[['Rating', 'Call Drop Category']].groupby('Call Drop Category').count()\n",
    "df_may_Call_count_April= df_April[['Rating', 'Call Drop Category']].groupby('Call Drop Category').count()\n",
    "Call_count = df_may_Call_count_April.join(df_may_Call_count_may, rsuffix='Call Drop Category')\n",
    "Call_count.rename(columns={'Rating': 'April', 'RatingCall Drop Category': 'May'}, inplace=True)\n",
    "Call_count\n"
   ]
  },
  {
   "cell_type": "code",
   "execution_count": 40,
   "metadata": {},
   "outputs": [
    {
     "ename": "AttributeError",
     "evalue": "'AxesSubplot' object has no attribute 'loc'",
     "output_type": "error",
     "traceback": [
      "\u001b[1;31m---------------------------------------------------------------------------\u001b[0m",
      "\u001b[1;31mAttributeError\u001b[0m                            Traceback (most recent call last)",
      "\u001b[1;32m<ipython-input-40-7cdc1f570e70>\u001b[0m in \u001b[0;36m<module>\u001b[1;34m\u001b[0m\n\u001b[1;32m----> 1\u001b[1;33m Call_Rating.loc[['Call Dropped', 'Poor Network', 'Satisfactory']].plot(kind='bar', \n\u001b[0m\u001b[0;32m      2\u001b[0m                                                                   \u001b[0mtitle\u001b[0m\u001b[1;33m=\u001b[0m\u001b[1;34m'Средняя оценка по категориям'\u001b[0m\u001b[1;33m,\u001b[0m\u001b[1;33m\u001b[0m\u001b[1;33m\u001b[0m\u001b[0m\n\u001b[0;32m      3\u001b[0m                                                                   \u001b[0mxlabel\u001b[0m\u001b[1;33m=\u001b[0m\u001b[1;34m'Категория'\u001b[0m\u001b[1;33m,\u001b[0m\u001b[1;33m\u001b[0m\u001b[1;33m\u001b[0m\u001b[0m\n\u001b[0;32m      4\u001b[0m                                                                   \u001b[0mylabel\u001b[0m\u001b[1;33m=\u001b[0m\u001b[1;34m'Средняя оценка'\u001b[0m\u001b[1;33m)\u001b[0m\u001b[1;33m.\u001b[0m\u001b[0mloc\u001b[0m\u001b[1;33m[\u001b[0m\u001b[1;33m[\u001b[0m\u001b[1;34m'Call Dropped'\u001b[0m\u001b[1;33m,\u001b[0m \u001b[1;34m'Poor Network'\u001b[0m\u001b[1;33m,\u001b[0m \u001b[1;34m'Satisfactory'\u001b[0m\u001b[1;33m]\u001b[0m\u001b[1;33m]\u001b[0m\u001b[1;33m.\u001b[0m\u001b[0mplot\u001b[0m\u001b[1;33m(\u001b[0m\u001b[0mkind\u001b[0m\u001b[1;33m=\u001b[0m\u001b[1;34m'bar'\u001b[0m\u001b[1;33m\u001b[0m\u001b[1;33m\u001b[0m\u001b[0m\n\u001b[0;32m      5\u001b[0m                                                                   )\n",
      "\u001b[1;31mAttributeError\u001b[0m: 'AxesSubplot' object has no attribute 'loc'"
     ]
    },
    {
     "data": {
      "image/png": "[encoded data removed]",
      "text/plain": [
       "<Figure size 792x360 with 1 Axes>"
      ]
     },
     "metadata": {
      "needs_background": "light"
     },
     "output_type": "display_data"
    }
   ],
   "source": [
    "Call_Rating.loc[['Call Dropped', 'Poor Network', 'Satisfactory']].plot(kind='bar', \n",
    "                                                                  title='Средняя оценка по категориям',\n",
    "                                                                  xlabel='Категория',\n",
    "                                                                  ylabel='Средняя оценка').loc[['Call Dropped', 'Poor Network', 'Satisfactory']].plot(kind='bar' \n",
    "                                                                  )\n"
   ]
  },
  {
   "cell_type": "markdown",
   "metadata": {},
   "source": [
    "Вывод: В категорях Call Dropped и Poor Network оценки пользователей ожидаемо низкие 1,29 и 1,68 соответственно. Никому не нравится плохая связь). В мае произошел рост средней оценки в категории Satisfactory на 0,25"
   ]
  },
  {
   "cell_type": "markdown",
   "metadata": {},
   "source": [
    "### Анализ оценок по регионам"
   ]
  },
  {
   "cell_type": "code",
   "execution_count": 41,
   "metadata": {},
   "outputs": [
    {
     "data": {
      "text/html": [
       "<div>\n",
       "<style scoped>\n",
       "    .dataframe tbody tr th:only-of-type {\n",
       "        vertical-align: middle;\n",
       "    }\n",
       "\n",
       "    .dataframe tbody tr th {\n",
       "        vertical-align: top;\n",
       "    }\n",
       "\n",
       "    .dataframe thead th {\n",
       "        text-align: right;\n",
       "    }\n",
       "</style>\n",
       "<table border=\"1\" class=\"dataframe\">\n",
       "  <thead>\n",
       "    <tr style=\"text-align: right;\">\n",
       "      <th></th>\n",
       "      <th>April</th>\n",
       "      <th>May</th>\n",
       "    </tr>\n",
       "    <tr>\n",
       "      <th>State Name</th>\n",
       "      <th></th>\n",
       "      <th></th>\n",
       "    </tr>\n",
       "  </thead>\n",
       "  <tbody>\n",
       "    <tr>\n",
       "      <th>Maharashtra</th>\n",
       "      <td>9329</td>\n",
       "      <td>4610.0</td>\n",
       "    </tr>\n",
       "    <tr>\n",
       "      <th>West Bengal</th>\n",
       "      <td>4340</td>\n",
       "      <td>2033.0</td>\n",
       "    </tr>\n",
       "    <tr>\n",
       "      <th>Uttar Pradesh</th>\n",
       "      <td>4128</td>\n",
       "      <td>2037.0</td>\n",
       "    </tr>\n",
       "    <tr>\n",
       "      <th>Tamil Nadu</th>\n",
       "      <td>3754</td>\n",
       "      <td>1367.0</td>\n",
       "    </tr>\n",
       "    <tr>\n",
       "      <th>Karnataka</th>\n",
       "      <td>3629</td>\n",
       "      <td>1742.0</td>\n",
       "    </tr>\n",
       "    <tr>\n",
       "      <th>Gujarat</th>\n",
       "      <td>3015</td>\n",
       "      <td>1268.0</td>\n",
       "    </tr>\n",
       "    <tr>\n",
       "      <th>Telangana</th>\n",
       "      <td>2794</td>\n",
       "      <td>1938.0</td>\n",
       "    </tr>\n",
       "    <tr>\n",
       "      <th>NCT</th>\n",
       "      <td>2682</td>\n",
       "      <td>1209.0</td>\n",
       "    </tr>\n",
       "    <tr>\n",
       "      <th>Odisha</th>\n",
       "      <td>2008</td>\n",
       "      <td>672.0</td>\n",
       "    </tr>\n",
       "    <tr>\n",
       "      <th>Madhya Pradesh</th>\n",
       "      <td>1713</td>\n",
       "      <td>456.0</td>\n",
       "    </tr>\n",
       "    <tr>\n",
       "      <th>Haryana</th>\n",
       "      <td>1705</td>\n",
       "      <td>1031.0</td>\n",
       "    </tr>\n",
       "    <tr>\n",
       "      <th>Andhra Pradesh</th>\n",
       "      <td>1623</td>\n",
       "      <td>908.0</td>\n",
       "    </tr>\n",
       "    <tr>\n",
       "      <th>Kerala</th>\n",
       "      <td>1439</td>\n",
       "      <td>685.0</td>\n",
       "    </tr>\n",
       "    <tr>\n",
       "      <th>Rajasthan</th>\n",
       "      <td>1167</td>\n",
       "      <td>1049.0</td>\n",
       "    </tr>\n",
       "    <tr>\n",
       "      <th>Bihar</th>\n",
       "      <td>860</td>\n",
       "      <td>649.0</td>\n",
       "    </tr>\n",
       "    <tr>\n",
       "      <th>Assam</th>\n",
       "      <td>668</td>\n",
       "      <td>306.0</td>\n",
       "    </tr>\n",
       "    <tr>\n",
       "      <th>Chhattisgarh</th>\n",
       "      <td>532</td>\n",
       "      <td>255.0</td>\n",
       "    </tr>\n",
       "    <tr>\n",
       "      <th>Jharkhand</th>\n",
       "      <td>486</td>\n",
       "      <td>354.0</td>\n",
       "    </tr>\n",
       "    <tr>\n",
       "      <th>Punjab</th>\n",
       "      <td>474</td>\n",
       "      <td>156.0</td>\n",
       "    </tr>\n",
       "    <tr>\n",
       "      <th>Uttarakhand</th>\n",
       "      <td>298</td>\n",
       "      <td>123.0</td>\n",
       "    </tr>\n",
       "    <tr>\n",
       "      <th>Himachal Pradesh</th>\n",
       "      <td>264</td>\n",
       "      <td>233.0</td>\n",
       "    </tr>\n",
       "    <tr>\n",
       "      <th>Goa</th>\n",
       "      <td>127</td>\n",
       "      <td>89.0</td>\n",
       "    </tr>\n",
       "    <tr>\n",
       "      <th>Chandigarh</th>\n",
       "      <td>110</td>\n",
       "      <td>68.0</td>\n",
       "    </tr>\n",
       "    <tr>\n",
       "      <th>Kashmir</th>\n",
       "      <td>102</td>\n",
       "      <td>19.0</td>\n",
       "    </tr>\n",
       "    <tr>\n",
       "      <th>Pondicherry</th>\n",
       "      <td>25</td>\n",
       "      <td>5.0</td>\n",
       "    </tr>\n",
       "    <tr>\n",
       "      <th>Eastern Region</th>\n",
       "      <td>15</td>\n",
       "      <td>1.0</td>\n",
       "    </tr>\n",
       "    <tr>\n",
       "      <th>Dadra and Nagar Haveli</th>\n",
       "      <td>15</td>\n",
       "      <td>5.0</td>\n",
       "    </tr>\n",
       "    <tr>\n",
       "      <th>Chhukha</th>\n",
       "      <td>15</td>\n",
       "      <td>6.0</td>\n",
       "    </tr>\n",
       "    <tr>\n",
       "      <th>Nagaland</th>\n",
       "      <td>12</td>\n",
       "      <td>NaN</td>\n",
       "    </tr>\n",
       "    <tr>\n",
       "      <th>Adis Abeba</th>\n",
       "      <td>10</td>\n",
       "      <td>NaN</td>\n",
       "    </tr>\n",
       "    <tr>\n",
       "      <th>Central Region</th>\n",
       "      <td>8</td>\n",
       "      <td>NaN</td>\n",
       "    </tr>\n",
       "    <tr>\n",
       "      <th>Sikkim</th>\n",
       "      <td>7</td>\n",
       "      <td>NaN</td>\n",
       "    </tr>\n",
       "    <tr>\n",
       "      <th>Meghalaya</th>\n",
       "      <td>5</td>\n",
       "      <td>NaN</td>\n",
       "    </tr>\n",
       "    <tr>\n",
       "      <th>Arunachal Pradesh</th>\n",
       "      <td>5</td>\n",
       "      <td>6.0</td>\n",
       "    </tr>\n",
       "    <tr>\n",
       "      <th>Tripura</th>\n",
       "      <td>4</td>\n",
       "      <td>3.0</td>\n",
       "    </tr>\n",
       "    <tr>\n",
       "      <th>Samchi</th>\n",
       "      <td>1</td>\n",
       "      <td>6.0</td>\n",
       "    </tr>\n",
       "    <tr>\n",
       "      <th>Manipur</th>\n",
       "      <td>1</td>\n",
       "      <td>NaN</td>\n",
       "    </tr>\n",
       "  </tbody>\n",
       "</table>\n",
       "</div>"
      ],
      "text/plain": [
       "                        April     May\n",
       "State Name                           \n",
       "Maharashtra              9329  4610.0\n",
       "West Bengal              4340  2033.0\n",
       "Uttar Pradesh            4128  2037.0\n",
       "Tamil Nadu               3754  1367.0\n",
       "Karnataka                3629  1742.0\n",
       "Gujarat                  3015  1268.0\n",
       "Telangana                2794  1938.0\n",
       "NCT                      2682  1209.0\n",
       "Odisha                   2008   672.0\n",
       "Madhya Pradesh           1713   456.0\n",
       "Haryana                  1705  1031.0\n",
       "Andhra Pradesh           1623   908.0\n",
       "Kerala                   1439   685.0\n",
       "Rajasthan                1167  1049.0\n",
       "Bihar                     860   649.0\n",
       "Assam                     668   306.0\n",
       "Chhattisgarh              532   255.0\n",
       "Jharkhand                 486   354.0\n",
       "Punjab                    474   156.0\n",
       "Uttarakhand               298   123.0\n",
       "Himachal Pradesh          264   233.0\n",
       "Goa                       127    89.0\n",
       "Chandigarh                110    68.0\n",
       "Kashmir                   102    19.0\n",
       "Pondicherry                25     5.0\n",
       "Eastern Region             15     1.0\n",
       "Dadra and Nagar Haveli     15     5.0\n",
       "Chhukha                    15     6.0\n",
       "Nagaland                   12     NaN\n",
       "Adis Abeba                 10     NaN\n",
       "Central Region              8     NaN\n",
       "Sikkim                      7     NaN\n",
       "Meghalaya                   5     NaN\n",
       "Arunachal Pradesh           5     6.0\n",
       "Tripura                     4     3.0\n",
       "Samchi                      1     6.0\n",
       "Manipur                     1     NaN"
      ]
     },
     "execution_count": 41,
     "metadata": {},
     "output_type": "execute_result"
    }
   ],
   "source": [
    "# выведем информацию о количеством оценок\n",
    "\n",
    "df_may_Call_count_may_State_Name = df_may[['Rating', 'State Name']].groupby('State Name').count().sort_values(by='Rating', ascending=False)\n",
    "df_may_Call_count_April_State_Name = df_April[['Rating', 'State Name']].groupby('State Name').count().sort_values(by='Rating', ascending=False)\n",
    "State_Name_count = df_may_Call_count_April_State_Name.join(df_may_Call_count_may_State_Name, rsuffix='State Name')\n",
    "State_Name_count.rename(columns={'Rating': 'April', 'RatingState Name': 'May'}, inplace=True)\n",
    "State_Name_count"
   ]
  },
  {
   "cell_type": "code",
   "execution_count": 42,
   "metadata": {},
   "outputs": [
    {
     "data": {
      "text/html": [
       "<div>\n",
       "<style scoped>\n",
       "    .dataframe tbody tr th:only-of-type {\n",
       "        vertical-align: middle;\n",
       "    }\n",
       "\n",
       "    .dataframe tbody tr th {\n",
       "        vertical-align: top;\n",
       "    }\n",
       "\n",
       "    .dataframe thead th {\n",
       "        text-align: right;\n",
       "    }\n",
       "</style>\n",
       "<table border=\"1\" class=\"dataframe\">\n",
       "  <thead>\n",
       "    <tr style=\"text-align: right;\">\n",
       "      <th></th>\n",
       "      <th>April</th>\n",
       "      <th>May</th>\n",
       "    </tr>\n",
       "    <tr>\n",
       "      <th>State Name</th>\n",
       "      <th></th>\n",
       "      <th></th>\n",
       "    </tr>\n",
       "  </thead>\n",
       "  <tbody>\n",
       "    <tr>\n",
       "      <th>Adis Abeba</th>\n",
       "      <td>3.30</td>\n",
       "      <td>NaN</td>\n",
       "    </tr>\n",
       "    <tr>\n",
       "      <th>Andhra Pradesh</th>\n",
       "      <td>3.28</td>\n",
       "      <td>3.75</td>\n",
       "    </tr>\n",
       "    <tr>\n",
       "      <th>Arunachal Pradesh</th>\n",
       "      <td>3.20</td>\n",
       "      <td>1.50</td>\n",
       "    </tr>\n",
       "    <tr>\n",
       "      <th>Assam</th>\n",
       "      <td>4.36</td>\n",
       "      <td>4.63</td>\n",
       "    </tr>\n",
       "    <tr>\n",
       "      <th>Bihar</th>\n",
       "      <td>3.60</td>\n",
       "      <td>2.60</td>\n",
       "    </tr>\n",
       "    <tr>\n",
       "      <th>Central Region</th>\n",
       "      <td>2.88</td>\n",
       "      <td>NaN</td>\n",
       "    </tr>\n",
       "    <tr>\n",
       "      <th>Chandigarh</th>\n",
       "      <td>4.74</td>\n",
       "      <td>4.63</td>\n",
       "    </tr>\n",
       "    <tr>\n",
       "      <th>Chhattisgarh</th>\n",
       "      <td>3.70</td>\n",
       "      <td>3.71</td>\n",
       "    </tr>\n",
       "    <tr>\n",
       "      <th>Chhukha</th>\n",
       "      <td>2.47</td>\n",
       "      <td>3.33</td>\n",
       "    </tr>\n",
       "    <tr>\n",
       "      <th>Dadra and Nagar Haveli</th>\n",
       "      <td>3.27</td>\n",
       "      <td>4.00</td>\n",
       "    </tr>\n",
       "    <tr>\n",
       "      <th>Eastern Region</th>\n",
       "      <td>2.80</td>\n",
       "      <td>2.00</td>\n",
       "    </tr>\n",
       "    <tr>\n",
       "      <th>Goa</th>\n",
       "      <td>3.30</td>\n",
       "      <td>2.56</td>\n",
       "    </tr>\n",
       "    <tr>\n",
       "      <th>Gujarat</th>\n",
       "      <td>3.45</td>\n",
       "      <td>3.29</td>\n",
       "    </tr>\n",
       "    <tr>\n",
       "      <th>Haryana</th>\n",
       "      <td>3.44</td>\n",
       "      <td>3.16</td>\n",
       "    </tr>\n",
       "    <tr>\n",
       "      <th>Himachal Pradesh</th>\n",
       "      <td>4.29</td>\n",
       "      <td>4.11</td>\n",
       "    </tr>\n",
       "    <tr>\n",
       "      <th>Jharkhand</th>\n",
       "      <td>3.64</td>\n",
       "      <td>3.55</td>\n",
       "    </tr>\n",
       "    <tr>\n",
       "      <th>Karnataka</th>\n",
       "      <td>3.53</td>\n",
       "      <td>3.82</td>\n",
       "    </tr>\n",
       "    <tr>\n",
       "      <th>Kashmir</th>\n",
       "      <td>4.38</td>\n",
       "      <td>4.16</td>\n",
       "    </tr>\n",
       "    <tr>\n",
       "      <th>Kerala</th>\n",
       "      <td>2.86</td>\n",
       "      <td>2.73</td>\n",
       "    </tr>\n",
       "    <tr>\n",
       "      <th>Madhya Pradesh</th>\n",
       "      <td>3.39</td>\n",
       "      <td>3.22</td>\n",
       "    </tr>\n",
       "    <tr>\n",
       "      <th>Maharashtra</th>\n",
       "      <td>3.37</td>\n",
       "      <td>3.46</td>\n",
       "    </tr>\n",
       "    <tr>\n",
       "      <th>Manipur</th>\n",
       "      <td>1.00</td>\n",
       "      <td>NaN</td>\n",
       "    </tr>\n",
       "    <tr>\n",
       "      <th>Meghalaya</th>\n",
       "      <td>1.20</td>\n",
       "      <td>NaN</td>\n",
       "    </tr>\n",
       "    <tr>\n",
       "      <th>NCT</th>\n",
       "      <td>3.12</td>\n",
       "      <td>3.19</td>\n",
       "    </tr>\n",
       "    <tr>\n",
       "      <th>Nagaland</th>\n",
       "      <td>3.58</td>\n",
       "      <td>NaN</td>\n",
       "    </tr>\n",
       "    <tr>\n",
       "      <th>Odisha</th>\n",
       "      <td>3.94</td>\n",
       "      <td>3.66</td>\n",
       "    </tr>\n",
       "    <tr>\n",
       "      <th>Pondicherry</th>\n",
       "      <td>2.92</td>\n",
       "      <td>3.40</td>\n",
       "    </tr>\n",
       "    <tr>\n",
       "      <th>Punjab</th>\n",
       "      <td>4.00</td>\n",
       "      <td>4.21</td>\n",
       "    </tr>\n",
       "    <tr>\n",
       "      <th>Rajasthan</th>\n",
       "      <td>2.79</td>\n",
       "      <td>3.12</td>\n",
       "    </tr>\n",
       "    <tr>\n",
       "      <th>Samchi</th>\n",
       "      <td>5.00</td>\n",
       "      <td>5.00</td>\n",
       "    </tr>\n",
       "    <tr>\n",
       "      <th>Sikkim</th>\n",
       "      <td>3.14</td>\n",
       "      <td>NaN</td>\n",
       "    </tr>\n",
       "    <tr>\n",
       "      <th>Tamil Nadu</th>\n",
       "      <td>3.62</td>\n",
       "      <td>3.86</td>\n",
       "    </tr>\n",
       "    <tr>\n",
       "      <th>Telangana</th>\n",
       "      <td>3.64</td>\n",
       "      <td>3.52</td>\n",
       "    </tr>\n",
       "    <tr>\n",
       "      <th>Tripura</th>\n",
       "      <td>5.00</td>\n",
       "      <td>5.00</td>\n",
       "    </tr>\n",
       "    <tr>\n",
       "      <th>Uttar Pradesh</th>\n",
       "      <td>3.68</td>\n",
       "      <td>3.73</td>\n",
       "    </tr>\n",
       "    <tr>\n",
       "      <th>Uttarakhand</th>\n",
       "      <td>3.58</td>\n",
       "      <td>3.88</td>\n",
       "    </tr>\n",
       "    <tr>\n",
       "      <th>West Bengal</th>\n",
       "      <td>3.59</td>\n",
       "      <td>3.68</td>\n",
       "    </tr>\n",
       "  </tbody>\n",
       "</table>\n",
       "</div>"
      ],
      "text/plain": [
       "                        April   May\n",
       "State Name                         \n",
       "Adis Abeba               3.30   NaN\n",
       "Andhra Pradesh           3.28  3.75\n",
       "Arunachal Pradesh        3.20  1.50\n",
       "Assam                    4.36  4.63\n",
       "Bihar                    3.60  2.60\n",
       "Central Region           2.88   NaN\n",
       "Chandigarh               4.74  4.63\n",
       "Chhattisgarh             3.70  3.71\n",
       "Chhukha                  2.47  3.33\n",
       "Dadra and Nagar Haveli   3.27  4.00\n",
       "Eastern Region           2.80  2.00\n",
       "Goa                      3.30  2.56\n",
       "Gujarat                  3.45  3.29\n",
       "Haryana                  3.44  3.16\n",
       "Himachal Pradesh         4.29  4.11\n",
       "Jharkhand                3.64  3.55\n",
       "Karnataka                3.53  3.82\n",
       "Kashmir                  4.38  4.16\n",
       "Kerala                   2.86  2.73\n",
       "Madhya Pradesh           3.39  3.22\n",
       "Maharashtra              3.37  3.46\n",
       "Manipur                  1.00   NaN\n",
       "Meghalaya                1.20   NaN\n",
       "NCT                      3.12  3.19\n",
       "Nagaland                 3.58   NaN\n",
       "Odisha                   3.94  3.66\n",
       "Pondicherry              2.92  3.40\n",
       "Punjab                   4.00  4.21\n",
       "Rajasthan                2.79  3.12\n",
       "Samchi                   5.00  5.00\n",
       "Sikkim                   3.14   NaN\n",
       "Tamil Nadu               3.62  3.86\n",
       "Telangana                3.64  3.52\n",
       "Tripura                  5.00  5.00\n",
       "Uttar Pradesh            3.68  3.73\n",
       "Uttarakhand              3.58  3.88\n",
       "West Bengal              3.59  3.68"
      ]
     },
     "execution_count": 42,
     "metadata": {},
     "output_type": "execute_result"
    }
   ],
   "source": [
    "# выведем информацию о средней оценки для каждого региона\n",
    "\n",
    "df_may_Call_Rating_may_State_Name = df_may[['Rating', 'State Name']].groupby('State Name').mean().round(2)\n",
    "df_may_Call_Rating_April_State_Name = df_April[['Rating', 'State Name']].groupby('State Name').mean().round(2)\n",
    "State_Name_Rating = df_may_Call_Rating_April_State_Name.join(df_may_Call_Rating_may_State_Name, rsuffix='State Name')\n",
    "State_Name_Rating.rename(columns={'Rating': 'April', 'RatingState Name': 'May'}, inplace=True)\n",
    "State_Name_Rating"
   ]
  },
  {
   "cell_type": "code",
   "execution_count": 43,
   "metadata": {},
   "outputs": [
    {
     "data": {
      "text/html": [
       "<style  type=\"text/css\" >\n",
       "#T_53e35af1_6e0d_11ec_a89d_503eaaed3a6brow0_col0,#T_53e35af1_6e0d_11ec_a89d_503eaaed3a6brow11_col0{\n",
       "            width:  10em;\n",
       "             height:  80%;\n",
       "            background:  linear-gradient(90deg,#d65f5f 66.0%, transparent 66.0%);\n",
       "        }#T_53e35af1_6e0d_11ec_a89d_503eaaed3a6brow1_col0{\n",
       "            width:  10em;\n",
       "             height:  80%;\n",
       "            background:  linear-gradient(90deg,#d65f5f 65.6%, transparent 65.6%);\n",
       "        }#T_53e35af1_6e0d_11ec_a89d_503eaaed3a6brow1_col1{\n",
       "            width:  10em;\n",
       "             height:  80%;\n",
       "            background:  linear-gradient(90deg,#d65f5f 75.0%, transparent 75.0%);\n",
       "        }#T_53e35af1_6e0d_11ec_a89d_503eaaed3a6brow2_col0{\n",
       "            width:  10em;\n",
       "             height:  80%;\n",
       "            background:  linear-gradient(90deg,#d65f5f 64.0%, transparent 64.0%);\n",
       "        }#T_53e35af1_6e0d_11ec_a89d_503eaaed3a6brow2_col1{\n",
       "            width:  10em;\n",
       "             height:  80%;\n",
       "            background:  linear-gradient(90deg,#d65f5f 30.0%, transparent 30.0%);\n",
       "        }#T_53e35af1_6e0d_11ec_a89d_503eaaed3a6brow3_col0{\n",
       "            width:  10em;\n",
       "             height:  80%;\n",
       "            background:  linear-gradient(90deg,#d65f5f 87.2%, transparent 87.2%);\n",
       "        }#T_53e35af1_6e0d_11ec_a89d_503eaaed3a6brow3_col1,#T_53e35af1_6e0d_11ec_a89d_503eaaed3a6brow6_col1{\n",
       "            width:  10em;\n",
       "             height:  80%;\n",
       "            background:  linear-gradient(90deg,#d65f5f 92.6%, transparent 92.6%);\n",
       "        }#T_53e35af1_6e0d_11ec_a89d_503eaaed3a6brow4_col0{\n",
       "            width:  10em;\n",
       "             height:  80%;\n",
       "            background:  linear-gradient(90deg,#d65f5f 72.0%, transparent 72.0%);\n",
       "        }#T_53e35af1_6e0d_11ec_a89d_503eaaed3a6brow4_col1{\n",
       "            width:  10em;\n",
       "             height:  80%;\n",
       "            background:  linear-gradient(90deg,#d65f5f 52.0%, transparent 52.0%);\n",
       "        }#T_53e35af1_6e0d_11ec_a89d_503eaaed3a6brow5_col0{\n",
       "            width:  10em;\n",
       "             height:  80%;\n",
       "            background:  linear-gradient(90deg,#d65f5f 57.6%, transparent 57.6%);\n",
       "        }#T_53e35af1_6e0d_11ec_a89d_503eaaed3a6brow6_col0{\n",
       "            width:  10em;\n",
       "             height:  80%;\n",
       "            background:  linear-gradient(90deg,#d65f5f 94.8%, transparent 94.8%);\n",
       "        }#T_53e35af1_6e0d_11ec_a89d_503eaaed3a6brow7_col0{\n",
       "            width:  10em;\n",
       "             height:  80%;\n",
       "            background:  linear-gradient(90deg,#d65f5f 74.0%, transparent 74.0%);\n",
       "        }#T_53e35af1_6e0d_11ec_a89d_503eaaed3a6brow7_col1{\n",
       "            width:  10em;\n",
       "             height:  80%;\n",
       "            background:  linear-gradient(90deg,#d65f5f 74.2%, transparent 74.2%);\n",
       "        }#T_53e35af1_6e0d_11ec_a89d_503eaaed3a6brow8_col0{\n",
       "            width:  10em;\n",
       "             height:  80%;\n",
       "            background:  linear-gradient(90deg,#d65f5f 49.4%, transparent 49.4%);\n",
       "        }#T_53e35af1_6e0d_11ec_a89d_503eaaed3a6brow8_col1{\n",
       "            width:  10em;\n",
       "             height:  80%;\n",
       "            background:  linear-gradient(90deg,#d65f5f 66.6%, transparent 66.6%);\n",
       "        }#T_53e35af1_6e0d_11ec_a89d_503eaaed3a6brow9_col0{\n",
       "            width:  10em;\n",
       "             height:  80%;\n",
       "            background:  linear-gradient(90deg,#d65f5f 65.4%, transparent 65.4%);\n",
       "        }#T_53e35af1_6e0d_11ec_a89d_503eaaed3a6brow9_col1,#T_53e35af1_6e0d_11ec_a89d_503eaaed3a6brow27_col0{\n",
       "            width:  10em;\n",
       "             height:  80%;\n",
       "            background:  linear-gradient(90deg,#d65f5f 80.0%, transparent 80.0%);\n",
       "        }#T_53e35af1_6e0d_11ec_a89d_503eaaed3a6brow10_col0{\n",
       "            width:  10em;\n",
       "             height:  80%;\n",
       "            background:  linear-gradient(90deg,#d65f5f 56.0%, transparent 56.0%);\n",
       "        }#T_53e35af1_6e0d_11ec_a89d_503eaaed3a6brow10_col1{\n",
       "            width:  10em;\n",
       "             height:  80%;\n",
       "            background:  linear-gradient(90deg,#d65f5f 40.0%, transparent 40.0%);\n",
       "        }#T_53e35af1_6e0d_11ec_a89d_503eaaed3a6brow11_col1{\n",
       "            width:  10em;\n",
       "             height:  80%;\n",
       "            background:  linear-gradient(90deg,#d65f5f 51.2%, transparent 51.2%);\n",
       "        }#T_53e35af1_6e0d_11ec_a89d_503eaaed3a6brow12_col0{\n",
       "            width:  10em;\n",
       "             height:  80%;\n",
       "            background:  linear-gradient(90deg,#d65f5f 69.0%, transparent 69.0%);\n",
       "        }#T_53e35af1_6e0d_11ec_a89d_503eaaed3a6brow12_col1{\n",
       "            width:  10em;\n",
       "             height:  80%;\n",
       "            background:  linear-gradient(90deg,#d65f5f 65.8%, transparent 65.8%);\n",
       "        }#T_53e35af1_6e0d_11ec_a89d_503eaaed3a6brow13_col0{\n",
       "            width:  10em;\n",
       "             height:  80%;\n",
       "            background:  linear-gradient(90deg,#d65f5f 68.8%, transparent 68.8%);\n",
       "        }#T_53e35af1_6e0d_11ec_a89d_503eaaed3a6brow13_col1{\n",
       "            width:  10em;\n",
       "             height:  80%;\n",
       "            background:  linear-gradient(90deg,#d65f5f 63.2%, transparent 63.2%);\n",
       "        }#T_53e35af1_6e0d_11ec_a89d_503eaaed3a6brow14_col0{\n",
       "            width:  10em;\n",
       "             height:  80%;\n",
       "            background:  linear-gradient(90deg,#d65f5f 85.8%, transparent 85.8%);\n",
       "        }#T_53e35af1_6e0d_11ec_a89d_503eaaed3a6brow14_col1{\n",
       "            width:  10em;\n",
       "             height:  80%;\n",
       "            background:  linear-gradient(90deg,#d65f5f 82.2%, transparent 82.2%);\n",
       "        }#T_53e35af1_6e0d_11ec_a89d_503eaaed3a6brow15_col0,#T_53e35af1_6e0d_11ec_a89d_503eaaed3a6brow32_col0{\n",
       "            width:  10em;\n",
       "             height:  80%;\n",
       "            background:  linear-gradient(90deg,#d65f5f 72.8%, transparent 72.8%);\n",
       "        }#T_53e35af1_6e0d_11ec_a89d_503eaaed3a6brow15_col1{\n",
       "            width:  10em;\n",
       "             height:  80%;\n",
       "            background:  linear-gradient(90deg,#d65f5f 71.0%, transparent 71.0%);\n",
       "        }#T_53e35af1_6e0d_11ec_a89d_503eaaed3a6brow16_col0{\n",
       "            width:  10em;\n",
       "             height:  80%;\n",
       "            background:  linear-gradient(90deg,#d65f5f 70.6%, transparent 70.6%);\n",
       "        }#T_53e35af1_6e0d_11ec_a89d_503eaaed3a6brow16_col1{\n",
       "            width:  10em;\n",
       "             height:  80%;\n",
       "            background:  linear-gradient(90deg,#d65f5f 76.4%, transparent 76.4%);\n",
       "        }#T_53e35af1_6e0d_11ec_a89d_503eaaed3a6brow17_col0{\n",
       "            width:  10em;\n",
       "             height:  80%;\n",
       "            background:  linear-gradient(90deg,#d65f5f 87.6%, transparent 87.6%);\n",
       "        }#T_53e35af1_6e0d_11ec_a89d_503eaaed3a6brow17_col1{\n",
       "            width:  10em;\n",
       "             height:  80%;\n",
       "            background:  linear-gradient(90deg,#d65f5f 83.2%, transparent 83.2%);\n",
       "        }#T_53e35af1_6e0d_11ec_a89d_503eaaed3a6brow18_col0{\n",
       "            width:  10em;\n",
       "             height:  80%;\n",
       "            background:  linear-gradient(90deg,#d65f5f 57.2%, transparent 57.2%);\n",
       "        }#T_53e35af1_6e0d_11ec_a89d_503eaaed3a6brow18_col1{\n",
       "            width:  10em;\n",
       "             height:  80%;\n",
       "            background:  linear-gradient(90deg,#d65f5f 54.6%, transparent 54.6%);\n",
       "        }#T_53e35af1_6e0d_11ec_a89d_503eaaed3a6brow19_col0{\n",
       "            width:  10em;\n",
       "             height:  80%;\n",
       "            background:  linear-gradient(90deg,#d65f5f 67.8%, transparent 67.8%);\n",
       "        }#T_53e35af1_6e0d_11ec_a89d_503eaaed3a6brow19_col1{\n",
       "            width:  10em;\n",
       "             height:  80%;\n",
       "            background:  linear-gradient(90deg,#d65f5f 64.4%, transparent 64.4%);\n",
       "        }#T_53e35af1_6e0d_11ec_a89d_503eaaed3a6brow20_col0{\n",
       "            width:  10em;\n",
       "             height:  80%;\n",
       "            background:  linear-gradient(90deg,#d65f5f 67.4%, transparent 67.4%);\n",
       "        }#T_53e35af1_6e0d_11ec_a89d_503eaaed3a6brow20_col1{\n",
       "            width:  10em;\n",
       "             height:  80%;\n",
       "            background:  linear-gradient(90deg,#d65f5f 69.2%, transparent 69.2%);\n",
       "        }#T_53e35af1_6e0d_11ec_a89d_503eaaed3a6brow21_col0{\n",
       "            width:  10em;\n",
       "             height:  80%;\n",
       "            background:  linear-gradient(90deg,#d65f5f 20.0%, transparent 20.0%);\n",
       "        }#T_53e35af1_6e0d_11ec_a89d_503eaaed3a6brow22_col0{\n",
       "            width:  10em;\n",
       "             height:  80%;\n",
       "            background:  linear-gradient(90deg,#d65f5f 24.0%, transparent 24.0%);\n",
       "        }#T_53e35af1_6e0d_11ec_a89d_503eaaed3a6brow23_col0,#T_53e35af1_6e0d_11ec_a89d_503eaaed3a6brow28_col1{\n",
       "            width:  10em;\n",
       "             height:  80%;\n",
       "            background:  linear-gradient(90deg,#d65f5f 62.4%, transparent 62.4%);\n",
       "        }#T_53e35af1_6e0d_11ec_a89d_503eaaed3a6brow23_col1{\n",
       "            width:  10em;\n",
       "             height:  80%;\n",
       "            background:  linear-gradient(90deg,#d65f5f 63.8%, transparent 63.8%);\n",
       "        }#T_53e35af1_6e0d_11ec_a89d_503eaaed3a6brow24_col0,#T_53e35af1_6e0d_11ec_a89d_503eaaed3a6brow35_col0{\n",
       "            width:  10em;\n",
       "             height:  80%;\n",
       "            background:  linear-gradient(90deg,#d65f5f 71.6%, transparent 71.6%);\n",
       "        }#T_53e35af1_6e0d_11ec_a89d_503eaaed3a6brow25_col0{\n",
       "            width:  10em;\n",
       "             height:  80%;\n",
       "            background:  linear-gradient(90deg,#d65f5f 78.8%, transparent 78.8%);\n",
       "        }#T_53e35af1_6e0d_11ec_a89d_503eaaed3a6brow25_col1{\n",
       "            width:  10em;\n",
       "             height:  80%;\n",
       "            background:  linear-gradient(90deg,#d65f5f 73.2%, transparent 73.2%);\n",
       "        }#T_53e35af1_6e0d_11ec_a89d_503eaaed3a6brow26_col0{\n",
       "            width:  10em;\n",
       "             height:  80%;\n",
       "            background:  linear-gradient(90deg,#d65f5f 58.4%, transparent 58.4%);\n",
       "        }#T_53e35af1_6e0d_11ec_a89d_503eaaed3a6brow26_col1{\n",
       "            width:  10em;\n",
       "             height:  80%;\n",
       "            background:  linear-gradient(90deg,#d65f5f 68.0%, transparent 68.0%);\n",
       "        }#T_53e35af1_6e0d_11ec_a89d_503eaaed3a6brow27_col1{\n",
       "            width:  10em;\n",
       "             height:  80%;\n",
       "            background:  linear-gradient(90deg,#d65f5f 84.2%, transparent 84.2%);\n",
       "        }#T_53e35af1_6e0d_11ec_a89d_503eaaed3a6brow28_col0{\n",
       "            width:  10em;\n",
       "             height:  80%;\n",
       "            background:  linear-gradient(90deg,#d65f5f 55.8%, transparent 55.8%);\n",
       "        }#T_53e35af1_6e0d_11ec_a89d_503eaaed3a6brow29_col0,#T_53e35af1_6e0d_11ec_a89d_503eaaed3a6brow29_col1,#T_53e35af1_6e0d_11ec_a89d_503eaaed3a6brow33_col0,#T_53e35af1_6e0d_11ec_a89d_503eaaed3a6brow33_col1{\n",
       "            width:  10em;\n",
       "             height:  80%;\n",
       "            background:  linear-gradient(90deg,#d65f5f 100.0%, transparent 100.0%);\n",
       "        }#T_53e35af1_6e0d_11ec_a89d_503eaaed3a6brow30_col0{\n",
       "            width:  10em;\n",
       "             height:  80%;\n",
       "            background:  linear-gradient(90deg,#d65f5f 62.8%, transparent 62.8%);\n",
       "        }#T_53e35af1_6e0d_11ec_a89d_503eaaed3a6brow31_col0{\n",
       "            width:  10em;\n",
       "             height:  80%;\n",
       "            background:  linear-gradient(90deg,#d65f5f 72.4%, transparent 72.4%);\n",
       "        }#T_53e35af1_6e0d_11ec_a89d_503eaaed3a6brow31_col1{\n",
       "            width:  10em;\n",
       "             height:  80%;\n",
       "            background:  linear-gradient(90deg,#d65f5f 77.2%, transparent 77.2%);\n",
       "        }#T_53e35af1_6e0d_11ec_a89d_503eaaed3a6brow32_col1{\n",
       "            width:  10em;\n",
       "             height:  80%;\n",
       "            background:  linear-gradient(90deg,#d65f5f 70.4%, transparent 70.4%);\n",
       "        }#T_53e35af1_6e0d_11ec_a89d_503eaaed3a6brow34_col0,#T_53e35af1_6e0d_11ec_a89d_503eaaed3a6brow36_col1{\n",
       "            width:  10em;\n",
       "             height:  80%;\n",
       "            background:  linear-gradient(90deg,#d65f5f 73.6%, transparent 73.6%);\n",
       "        }#T_53e35af1_6e0d_11ec_a89d_503eaaed3a6brow34_col1{\n",
       "            width:  10em;\n",
       "             height:  80%;\n",
       "            background:  linear-gradient(90deg,#d65f5f 74.6%, transparent 74.6%);\n",
       "        }#T_53e35af1_6e0d_11ec_a89d_503eaaed3a6brow35_col1{\n",
       "            width:  10em;\n",
       "             height:  80%;\n",
       "            background:  linear-gradient(90deg,#d65f5f 77.6%, transparent 77.6%);\n",
       "        }#T_53e35af1_6e0d_11ec_a89d_503eaaed3a6brow36_col0{\n",
       "            width:  10em;\n",
       "             height:  80%;\n",
       "            background:  linear-gradient(90deg,#d65f5f 71.8%, transparent 71.8%);\n",
       "        }</style><table id=\"T_53e35af1_6e0d_11ec_a89d_503eaaed3a6b\" ><thead>    <tr>        <th class=\"blank level0\" ></th>        <th class=\"col_heading level0 col0\" >April</th>        <th class=\"col_heading level0 col1\" >May</th>    </tr>    <tr>        <th class=\"index_name level0\" >State Name</th>        <th class=\"blank\" ></th>        <th class=\"blank\" ></th>    </tr></thead><tbody>\n",
       "                <tr>\n",
       "                        <th id=\"T_53e35af1_6e0d_11ec_a89d_503eaaed3a6blevel0_row0\" class=\"row_heading level0 row0\" >Adis Abeba</th>\n",
       "                        <td id=\"T_53e35af1_6e0d_11ec_a89d_503eaaed3a6brow0_col0\" class=\"data row0 col0\" >3.300000</td>\n",
       "                        <td id=\"T_53e35af1_6e0d_11ec_a89d_503eaaed3a6brow0_col1\" class=\"data row0 col1\" >nan</td>\n",
       "            </tr>\n",
       "            <tr>\n",
       "                        <th id=\"T_53e35af1_6e0d_11ec_a89d_503eaaed3a6blevel0_row1\" class=\"row_heading level0 row1\" >Andhra Pradesh</th>\n",
       "                        <td id=\"T_53e35af1_6e0d_11ec_a89d_503eaaed3a6brow1_col0\" class=\"data row1 col0\" >3.280000</td>\n",
       "                        <td id=\"T_53e35af1_6e0d_11ec_a89d_503eaaed3a6brow1_col1\" class=\"data row1 col1\" >3.750000</td>\n",
       "            </tr>\n",
       "            <tr>\n",
       "                        <th id=\"T_53e35af1_6e0d_11ec_a89d_503eaaed3a6blevel0_row2\" class=\"row_heading level0 row2\" >Arunachal Pradesh</th>\n",
       "                        <td id=\"T_53e35af1_6e0d_11ec_a89d_503eaaed3a6brow2_col0\" class=\"data row2 col0\" >3.200000</td>\n",
       "                        <td id=\"T_53e35af1_6e0d_11ec_a89d_503eaaed3a6brow2_col1\" class=\"data row2 col1\" >1.500000</td>\n",
       "            </tr>\n",
       "            <tr>\n",
       "                        <th id=\"T_53e35af1_6e0d_11ec_a89d_503eaaed3a6blevel0_row3\" class=\"row_heading level0 row3\" >Assam</th>\n",
       "                        <td id=\"T_53e35af1_6e0d_11ec_a89d_503eaaed3a6brow3_col0\" class=\"data row3 col0\" >4.360000</td>\n",
       "                        <td id=\"T_53e35af1_6e0d_11ec_a89d_503eaaed3a6brow3_col1\" class=\"data row3 col1\" >4.630000</td>\n",
       "            </tr>\n",
       "            <tr>\n",
       "                        <th id=\"T_53e35af1_6e0d_11ec_a89d_503eaaed3a6blevel0_row4\" class=\"row_heading level0 row4\" >Bihar</th>\n",
       "                        <td id=\"T_53e35af1_6e0d_11ec_a89d_503eaaed3a6brow4_col0\" class=\"data row4 col0\" >3.600000</td>\n",
       "                        <td id=\"T_53e35af1_6e0d_11ec_a89d_503eaaed3a6brow4_col1\" class=\"data row4 col1\" >2.600000</td>\n",
       "            </tr>\n",
       "            <tr>\n",
       "                        <th id=\"T_53e35af1_6e0d_11ec_a89d_503eaaed3a6blevel0_row5\" class=\"row_heading level0 row5\" >Central Region</th>\n",
       "                        <td id=\"T_53e35af1_6e0d_11ec_a89d_503eaaed3a6brow5_col0\" class=\"data row5 col0\" >2.880000</td>\n",
       "                        <td id=\"T_53e35af1_6e0d_11ec_a89d_503eaaed3a6brow5_col1\" class=\"data row5 col1\" >nan</td>\n",
       "            </tr>\n",
       "            <tr>\n",
       "                        <th id=\"T_53e35af1_6e0d_11ec_a89d_503eaaed3a6blevel0_row6\" class=\"row_heading level0 row6\" >Chandigarh</th>\n",
       "                        <td id=\"T_53e35af1_6e0d_11ec_a89d_503eaaed3a6brow6_col0\" class=\"data row6 col0\" >4.740000</td>\n",
       "                        <td id=\"T_53e35af1_6e0d_11ec_a89d_503eaaed3a6brow6_col1\" class=\"data row6 col1\" >4.630000</td>\n",
       "            </tr>\n",
       "            <tr>\n",
       "                        <th id=\"T_53e35af1_6e0d_11ec_a89d_503eaaed3a6blevel0_row7\" class=\"row_heading level0 row7\" >Chhattisgarh</th>\n",
       "                        <td id=\"T_53e35af1_6e0d_11ec_a89d_503eaaed3a6brow7_col0\" class=\"data row7 col0\" >3.700000</td>\n",
       "                        <td id=\"T_53e35af1_6e0d_11ec_a89d_503eaaed3a6brow7_col1\" class=\"data row7 col1\" >3.710000</td>\n",
       "            </tr>\n",
       "            <tr>\n",
       "                        <th id=\"T_53e35af1_6e0d_11ec_a89d_503eaaed3a6blevel0_row8\" class=\"row_heading level0 row8\" >Chhukha</th>\n",
       "                        <td id=\"T_53e35af1_6e0d_11ec_a89d_503eaaed3a6brow8_col0\" class=\"data row8 col0\" >2.470000</td>\n",
       "                        <td id=\"T_53e35af1_6e0d_11ec_a89d_503eaaed3a6brow8_col1\" class=\"data row8 col1\" >3.330000</td>\n",
       "            </tr>\n",
       "            <tr>\n",
       "                        <th id=\"T_53e35af1_6e0d_11ec_a89d_503eaaed3a6blevel0_row9\" class=\"row_heading level0 row9\" >Dadra and Nagar Haveli</th>\n",
       "                        <td id=\"T_53e35af1_6e0d_11ec_a89d_503eaaed3a6brow9_col0\" class=\"data row9 col0\" >3.270000</td>\n",
       "                        <td id=\"T_53e35af1_6e0d_11ec_a89d_503eaaed3a6brow9_col1\" class=\"data row9 col1\" >4.000000</td>\n",
       "            </tr>\n",
       "            <tr>\n",
       "                        <th id=\"T_53e35af1_6e0d_11ec_a89d_503eaaed3a6blevel0_row10\" class=\"row_heading level0 row10\" >Eastern Region</th>\n",
       "                        <td id=\"T_53e35af1_6e0d_11ec_a89d_503eaaed3a6brow10_col0\" class=\"data row10 col0\" >2.800000</td>\n",
       "                        <td id=\"T_53e35af1_6e0d_11ec_a89d_503eaaed3a6brow10_col1\" class=\"data row10 col1\" >2.000000</td>\n",
       "            </tr>\n",
       "            <tr>\n",
       "                        <th id=\"T_53e35af1_6e0d_11ec_a89d_503eaaed3a6blevel0_row11\" class=\"row_heading level0 row11\" >Goa</th>\n",
       "                        <td id=\"T_53e35af1_6e0d_11ec_a89d_503eaaed3a6brow11_col0\" class=\"data row11 col0\" >3.300000</td>\n",
       "                        <td id=\"T_53e35af1_6e0d_11ec_a89d_503eaaed3a6brow11_col1\" class=\"data row11 col1\" >2.560000</td>\n",
       "            </tr>\n",
       "            <tr>\n",
       "                        <th id=\"T_53e35af1_6e0d_11ec_a89d_503eaaed3a6blevel0_row12\" class=\"row_heading level0 row12\" >Gujarat</th>\n",
       "                        <td id=\"T_53e35af1_6e0d_11ec_a89d_503eaaed3a6brow12_col0\" class=\"data row12 col0\" >3.450000</td>\n",
       "                        <td id=\"T_53e35af1_6e0d_11ec_a89d_503eaaed3a6brow12_col1\" class=\"data row12 col1\" >3.290000</td>\n",
       "            </tr>\n",
       "            <tr>\n",
       "                        <th id=\"T_53e35af1_6e0d_11ec_a89d_503eaaed3a6blevel0_row13\" class=\"row_heading level0 row13\" >Haryana</th>\n",
       "                        <td id=\"T_53e35af1_6e0d_11ec_a89d_503eaaed3a6brow13_col0\" class=\"data row13 col0\" >3.440000</td>\n",
       "                        <td id=\"T_53e35af1_6e0d_11ec_a89d_503eaaed3a6brow13_col1\" class=\"data row13 col1\" >3.160000</td>\n",
       "            </tr>\n",
       "            <tr>\n",
       "                        <th id=\"T_53e35af1_6e0d_11ec_a89d_503eaaed3a6blevel0_row14\" class=\"row_heading level0 row14\" >Himachal Pradesh</th>\n",
       "                        <td id=\"T_53e35af1_6e0d_11ec_a89d_503eaaed3a6brow14_col0\" class=\"data row14 col0\" >4.290000</td>\n",
       "                        <td id=\"T_53e35af1_6e0d_11ec_a89d_503eaaed3a6brow14_col1\" class=\"data row14 col1\" >4.110000</td>\n",
       "            </tr>\n",
       "            <tr>\n",
       "                        <th id=\"T_53e35af1_6e0d_11ec_a89d_503eaaed3a6blevel0_row15\" class=\"row_heading level0 row15\" >Jharkhand</th>\n",
       "                        <td id=\"T_53e35af1_6e0d_11ec_a89d_503eaaed3a6brow15_col0\" class=\"data row15 col0\" >3.640000</td>\n",
       "                        <td id=\"T_53e35af1_6e0d_11ec_a89d_503eaaed3a6brow15_col1\" class=\"data row15 col1\" >3.550000</td>\n",
       "            </tr>\n",
       "            <tr>\n",
       "                        <th id=\"T_53e35af1_6e0d_11ec_a89d_503eaaed3a6blevel0_row16\" class=\"row_heading level0 row16\" >Karnataka</th>\n",
       "                        <td id=\"T_53e35af1_6e0d_11ec_a89d_503eaaed3a6brow16_col0\" class=\"data row16 col0\" >3.530000</td>\n",
       "                        <td id=\"T_53e35af1_6e0d_11ec_a89d_503eaaed3a6brow16_col1\" class=\"data row16 col1\" >3.820000</td>\n",
       "            </tr>\n",
       "            <tr>\n",
       "                        <th id=\"T_53e35af1_6e0d_11ec_a89d_503eaaed3a6blevel0_row17\" class=\"row_heading level0 row17\" >Kashmir</th>\n",
       "                        <td id=\"T_53e35af1_6e0d_11ec_a89d_503eaaed3a6brow17_col0\" class=\"data row17 col0\" >4.380000</td>\n",
       "                        <td id=\"T_53e35af1_6e0d_11ec_a89d_503eaaed3a6brow17_col1\" class=\"data row17 col1\" >4.160000</td>\n",
       "            </tr>\n",
       "            <tr>\n",
       "                        <th id=\"T_53e35af1_6e0d_11ec_a89d_503eaaed3a6blevel0_row18\" class=\"row_heading level0 row18\" >Kerala</th>\n",
       "                        <td id=\"T_53e35af1_6e0d_11ec_a89d_503eaaed3a6brow18_col0\" class=\"data row18 col0\" >2.860000</td>\n",
       "                        <td id=\"T_53e35af1_6e0d_11ec_a89d_503eaaed3a6brow18_col1\" class=\"data row18 col1\" >2.730000</td>\n",
       "            </tr>\n",
       "            <tr>\n",
       "                        <th id=\"T_53e35af1_6e0d_11ec_a89d_503eaaed3a6blevel0_row19\" class=\"row_heading level0 row19\" >Madhya Pradesh</th>\n",
       "                        <td id=\"T_53e35af1_6e0d_11ec_a89d_503eaaed3a6brow19_col0\" class=\"data row19 col0\" >3.390000</td>\n",
       "                        <td id=\"T_53e35af1_6e0d_11ec_a89d_503eaaed3a6brow19_col1\" class=\"data row19 col1\" >3.220000</td>\n",
       "            </tr>\n",
       "            <tr>\n",
       "                        <th id=\"T_53e35af1_6e0d_11ec_a89d_503eaaed3a6blevel0_row20\" class=\"row_heading level0 row20\" >Maharashtra</th>\n",
       "                        <td id=\"T_53e35af1_6e0d_11ec_a89d_503eaaed3a6brow20_col0\" class=\"data row20 col0\" >3.370000</td>\n",
       "                        <td id=\"T_53e35af1_6e0d_11ec_a89d_503eaaed3a6brow20_col1\" class=\"data row20 col1\" >3.460000</td>\n",
       "            </tr>\n",
       "            <tr>\n",
       "                        <th id=\"T_53e35af1_6e0d_11ec_a89d_503eaaed3a6blevel0_row21\" class=\"row_heading level0 row21\" >Manipur</th>\n",
       "                        <td id=\"T_53e35af1_6e0d_11ec_a89d_503eaaed3a6brow21_col0\" class=\"data row21 col0\" >1.000000</td>\n",
       "                        <td id=\"T_53e35af1_6e0d_11ec_a89d_503eaaed3a6brow21_col1\" class=\"data row21 col1\" >nan</td>\n",
       "            </tr>\n",
       "            <tr>\n",
       "                        <th id=\"T_53e35af1_6e0d_11ec_a89d_503eaaed3a6blevel0_row22\" class=\"row_heading level0 row22\" >Meghalaya</th>\n",
       "                        <td id=\"T_53e35af1_6e0d_11ec_a89d_503eaaed3a6brow22_col0\" class=\"data row22 col0\" >1.200000</td>\n",
       "                        <td id=\"T_53e35af1_6e0d_11ec_a89d_503eaaed3a6brow22_col1\" class=\"data row22 col1\" >nan</td>\n",
       "            </tr>\n",
       "            <tr>\n",
       "                        <th id=\"T_53e35af1_6e0d_11ec_a89d_503eaaed3a6blevel0_row23\" class=\"row_heading level0 row23\" >NCT</th>\n",
       "                        <td id=\"T_53e35af1_6e0d_11ec_a89d_503eaaed3a6brow23_col0\" class=\"data row23 col0\" >3.120000</td>\n",
       "                        <td id=\"T_53e35af1_6e0d_11ec_a89d_503eaaed3a6brow23_col1\" class=\"data row23 col1\" >3.190000</td>\n",
       "            </tr>\n",
       "            <tr>\n",
       "                        <th id=\"T_53e35af1_6e0d_11ec_a89d_503eaaed3a6blevel0_row24\" class=\"row_heading level0 row24\" >Nagaland</th>\n",
       "                        <td id=\"T_53e35af1_6e0d_11ec_a89d_503eaaed3a6brow24_col0\" class=\"data row24 col0\" >3.580000</td>\n",
       "                        <td id=\"T_53e35af1_6e0d_11ec_a89d_503eaaed3a6brow24_col1\" class=\"data row24 col1\" >nan</td>\n",
       "            </tr>\n",
       "            <tr>\n",
       "                        <th id=\"T_53e35af1_6e0d_11ec_a89d_503eaaed3a6blevel0_row25\" class=\"row_heading level0 row25\" >Odisha</th>\n",
       "                        <td id=\"T_53e35af1_6e0d_11ec_a89d_503eaaed3a6brow25_col0\" class=\"data row25 col0\" >3.940000</td>\n",
       "                        <td id=\"T_53e35af1_6e0d_11ec_a89d_503eaaed3a6brow25_col1\" class=\"data row25 col1\" >3.660000</td>\n",
       "            </tr>\n",
       "            <tr>\n",
       "                        <th id=\"T_53e35af1_6e0d_11ec_a89d_503eaaed3a6blevel0_row26\" class=\"row_heading level0 row26\" >Pondicherry</th>\n",
       "                        <td id=\"T_53e35af1_6e0d_11ec_a89d_503eaaed3a6brow26_col0\" class=\"data row26 col0\" >2.920000</td>\n",
       "                        <td id=\"T_53e35af1_6e0d_11ec_a89d_503eaaed3a6brow26_col1\" class=\"data row26 col1\" >3.400000</td>\n",
       "            </tr>\n",
       "            <tr>\n",
       "                        <th id=\"T_53e35af1_6e0d_11ec_a89d_503eaaed3a6blevel0_row27\" class=\"row_heading level0 row27\" >Punjab</th>\n",
       "                        <td id=\"T_53e35af1_6e0d_11ec_a89d_503eaaed3a6brow27_col0\" class=\"data row27 col0\" >4.000000</td>\n",
       "                        <td id=\"T_53e35af1_6e0d_11ec_a89d_503eaaed3a6brow27_col1\" class=\"data row27 col1\" >4.210000</td>\n",
       "            </tr>\n",
       "            <tr>\n",
       "                        <th id=\"T_53e35af1_6e0d_11ec_a89d_503eaaed3a6blevel0_row28\" class=\"row_heading level0 row28\" >Rajasthan</th>\n",
       "                        <td id=\"T_53e35af1_6e0d_11ec_a89d_503eaaed3a6brow28_col0\" class=\"data row28 col0\" >2.790000</td>\n",
       "                        <td id=\"T_53e35af1_6e0d_11ec_a89d_503eaaed3a6brow28_col1\" class=\"data row28 col1\" >3.120000</td>\n",
       "            </tr>\n",
       "            <tr>\n",
       "                        <th id=\"T_53e35af1_6e0d_11ec_a89d_503eaaed3a6blevel0_row29\" class=\"row_heading level0 row29\" >Samchi</th>\n",
       "                        <td id=\"T_53e35af1_6e0d_11ec_a89d_503eaaed3a6brow29_col0\" class=\"data row29 col0\" >5.000000</td>\n",
       "                        <td id=\"T_53e35af1_6e0d_11ec_a89d_503eaaed3a6brow29_col1\" class=\"data row29 col1\" >5.000000</td>\n",
       "            </tr>\n",
       "            <tr>\n",
       "                        <th id=\"T_53e35af1_6e0d_11ec_a89d_503eaaed3a6blevel0_row30\" class=\"row_heading level0 row30\" >Sikkim</th>\n",
       "                        <td id=\"T_53e35af1_6e0d_11ec_a89d_503eaaed3a6brow30_col0\" class=\"data row30 col0\" >3.140000</td>\n",
       "                        <td id=\"T_53e35af1_6e0d_11ec_a89d_503eaaed3a6brow30_col1\" class=\"data row30 col1\" >nan</td>\n",
       "            </tr>\n",
       "            <tr>\n",
       "                        <th id=\"T_53e35af1_6e0d_11ec_a89d_503eaaed3a6blevel0_row31\" class=\"row_heading level0 row31\" >Tamil Nadu</th>\n",
       "                        <td id=\"T_53e35af1_6e0d_11ec_a89d_503eaaed3a6brow31_col0\" class=\"data row31 col0\" >3.620000</td>\n",
       "                        <td id=\"T_53e35af1_6e0d_11ec_a89d_503eaaed3a6brow31_col1\" class=\"data row31 col1\" >3.860000</td>\n",
       "            </tr>\n",
       "            <tr>\n",
       "                        <th id=\"T_53e35af1_6e0d_11ec_a89d_503eaaed3a6blevel0_row32\" class=\"row_heading level0 row32\" >Telangana</th>\n",
       "                        <td id=\"T_53e35af1_6e0d_11ec_a89d_503eaaed3a6brow32_col0\" class=\"data row32 col0\" >3.640000</td>\n",
       "                        <td id=\"T_53e35af1_6e0d_11ec_a89d_503eaaed3a6brow32_col1\" class=\"data row32 col1\" >3.520000</td>\n",
       "            </tr>\n",
       "            <tr>\n",
       "                        <th id=\"T_53e35af1_6e0d_11ec_a89d_503eaaed3a6blevel0_row33\" class=\"row_heading level0 row33\" >Tripura</th>\n",
       "                        <td id=\"T_53e35af1_6e0d_11ec_a89d_503eaaed3a6brow33_col0\" class=\"data row33 col0\" >5.000000</td>\n",
       "                        <td id=\"T_53e35af1_6e0d_11ec_a89d_503eaaed3a6brow33_col1\" class=\"data row33 col1\" >5.000000</td>\n",
       "            </tr>\n",
       "            <tr>\n",
       "                        <th id=\"T_53e35af1_6e0d_11ec_a89d_503eaaed3a6blevel0_row34\" class=\"row_heading level0 row34\" >Uttar Pradesh</th>\n",
       "                        <td id=\"T_53e35af1_6e0d_11ec_a89d_503eaaed3a6brow34_col0\" class=\"data row34 col0\" >3.680000</td>\n",
       "                        <td id=\"T_53e35af1_6e0d_11ec_a89d_503eaaed3a6brow34_col1\" class=\"data row34 col1\" >3.730000</td>\n",
       "            </tr>\n",
       "            <tr>\n",
       "                        <th id=\"T_53e35af1_6e0d_11ec_a89d_503eaaed3a6blevel0_row35\" class=\"row_heading level0 row35\" >Uttarakhand</th>\n",
       "                        <td id=\"T_53e35af1_6e0d_11ec_a89d_503eaaed3a6brow35_col0\" class=\"data row35 col0\" >3.580000</td>\n",
       "                        <td id=\"T_53e35af1_6e0d_11ec_a89d_503eaaed3a6brow35_col1\" class=\"data row35 col1\" >3.880000</td>\n",
       "            </tr>\n",
       "            <tr>\n",
       "                        <th id=\"T_53e35af1_6e0d_11ec_a89d_503eaaed3a6blevel0_row36\" class=\"row_heading level0 row36\" >West Bengal</th>\n",
       "                        <td id=\"T_53e35af1_6e0d_11ec_a89d_503eaaed3a6brow36_col0\" class=\"data row36 col0\" >3.590000</td>\n",
       "                        <td id=\"T_53e35af1_6e0d_11ec_a89d_503eaaed3a6brow36_col1\" class=\"data row36 col1\" >3.680000</td>\n",
       "            </tr>\n",
       "    </tbody></table>"
      ],
      "text/plain": [
       "<pandas.io.formats.style.Styler at 0x1faf830ac40>"
      ]
     },
     "execution_count": 43,
     "metadata": {},
     "output_type": "execute_result"
    }
   ],
   "source": [
    "State_Name_Rating.style.bar(align='mid')"
   ]
  },
  {
   "cell_type": "markdown",
   "metadata": {},
   "source": [
    "Объединим информацию о количестве и средней оценки по региону"
   ]
  },
  {
   "cell_type": "code",
   "execution_count": 44,
   "metadata": {},
   "outputs": [
    {
     "data": {
      "text/html": [
       "<div>\n",
       "<style scoped>\n",
       "    .dataframe tbody tr th:only-of-type {\n",
       "        vertical-align: middle;\n",
       "    }\n",
       "\n",
       "    .dataframe tbody tr th {\n",
       "        vertical-align: top;\n",
       "    }\n",
       "\n",
       "    .dataframe thead th {\n",
       "        text-align: right;\n",
       "    }\n",
       "</style>\n",
       "<table border=\"1\" class=\"dataframe\">\n",
       "  <thead>\n",
       "    <tr style=\"text-align: right;\">\n",
       "      <th></th>\n",
       "      <th>April</th>\n",
       "      <th>May</th>\n",
       "      <th>April_Rating</th>\n",
       "      <th>May_Rating</th>\n",
       "    </tr>\n",
       "    <tr>\n",
       "      <th>State Name</th>\n",
       "      <th></th>\n",
       "      <th></th>\n",
       "      <th></th>\n",
       "      <th></th>\n",
       "    </tr>\n",
       "  </thead>\n",
       "  <tbody>\n",
       "    <tr>\n",
       "      <th>Maharashtra</th>\n",
       "      <td>9329</td>\n",
       "      <td>4610.0</td>\n",
       "      <td>3.37</td>\n",
       "      <td>3.46</td>\n",
       "    </tr>\n",
       "    <tr>\n",
       "      <th>West Bengal</th>\n",
       "      <td>4340</td>\n",
       "      <td>2033.0</td>\n",
       "      <td>3.59</td>\n",
       "      <td>3.68</td>\n",
       "    </tr>\n",
       "    <tr>\n",
       "      <th>Uttar Pradesh</th>\n",
       "      <td>4128</td>\n",
       "      <td>2037.0</td>\n",
       "      <td>3.68</td>\n",
       "      <td>3.73</td>\n",
       "    </tr>\n",
       "    <tr>\n",
       "      <th>Tamil Nadu</th>\n",
       "      <td>3754</td>\n",
       "      <td>1367.0</td>\n",
       "      <td>3.62</td>\n",
       "      <td>3.86</td>\n",
       "    </tr>\n",
       "    <tr>\n",
       "      <th>Karnataka</th>\n",
       "      <td>3629</td>\n",
       "      <td>1742.0</td>\n",
       "      <td>3.53</td>\n",
       "      <td>3.82</td>\n",
       "    </tr>\n",
       "    <tr>\n",
       "      <th>Gujarat</th>\n",
       "      <td>3015</td>\n",
       "      <td>1268.0</td>\n",
       "      <td>3.45</td>\n",
       "      <td>3.29</td>\n",
       "    </tr>\n",
       "    <tr>\n",
       "      <th>Telangana</th>\n",
       "      <td>2794</td>\n",
       "      <td>1938.0</td>\n",
       "      <td>3.64</td>\n",
       "      <td>3.52</td>\n",
       "    </tr>\n",
       "    <tr>\n",
       "      <th>NCT</th>\n",
       "      <td>2682</td>\n",
       "      <td>1209.0</td>\n",
       "      <td>3.12</td>\n",
       "      <td>3.19</td>\n",
       "    </tr>\n",
       "    <tr>\n",
       "      <th>Odisha</th>\n",
       "      <td>2008</td>\n",
       "      <td>672.0</td>\n",
       "      <td>3.94</td>\n",
       "      <td>3.66</td>\n",
       "    </tr>\n",
       "    <tr>\n",
       "      <th>Madhya Pradesh</th>\n",
       "      <td>1713</td>\n",
       "      <td>456.0</td>\n",
       "      <td>3.39</td>\n",
       "      <td>3.22</td>\n",
       "    </tr>\n",
       "    <tr>\n",
       "      <th>Haryana</th>\n",
       "      <td>1705</td>\n",
       "      <td>1031.0</td>\n",
       "      <td>3.44</td>\n",
       "      <td>3.16</td>\n",
       "    </tr>\n",
       "    <tr>\n",
       "      <th>Andhra Pradesh</th>\n",
       "      <td>1623</td>\n",
       "      <td>908.0</td>\n",
       "      <td>3.28</td>\n",
       "      <td>3.75</td>\n",
       "    </tr>\n",
       "    <tr>\n",
       "      <th>Kerala</th>\n",
       "      <td>1439</td>\n",
       "      <td>685.0</td>\n",
       "      <td>2.86</td>\n",
       "      <td>2.73</td>\n",
       "    </tr>\n",
       "    <tr>\n",
       "      <th>Rajasthan</th>\n",
       "      <td>1167</td>\n",
       "      <td>1049.0</td>\n",
       "      <td>2.79</td>\n",
       "      <td>3.12</td>\n",
       "    </tr>\n",
       "    <tr>\n",
       "      <th>Bihar</th>\n",
       "      <td>860</td>\n",
       "      <td>649.0</td>\n",
       "      <td>3.60</td>\n",
       "      <td>2.60</td>\n",
       "    </tr>\n",
       "    <tr>\n",
       "      <th>Assam</th>\n",
       "      <td>668</td>\n",
       "      <td>306.0</td>\n",
       "      <td>4.36</td>\n",
       "      <td>4.63</td>\n",
       "    </tr>\n",
       "    <tr>\n",
       "      <th>Chhattisgarh</th>\n",
       "      <td>532</td>\n",
       "      <td>255.0</td>\n",
       "      <td>3.70</td>\n",
       "      <td>3.71</td>\n",
       "    </tr>\n",
       "    <tr>\n",
       "      <th>Jharkhand</th>\n",
       "      <td>486</td>\n",
       "      <td>354.0</td>\n",
       "      <td>3.64</td>\n",
       "      <td>3.55</td>\n",
       "    </tr>\n",
       "    <tr>\n",
       "      <th>Punjab</th>\n",
       "      <td>474</td>\n",
       "      <td>156.0</td>\n",
       "      <td>4.00</td>\n",
       "      <td>4.21</td>\n",
       "    </tr>\n",
       "    <tr>\n",
       "      <th>Uttarakhand</th>\n",
       "      <td>298</td>\n",
       "      <td>123.0</td>\n",
       "      <td>3.58</td>\n",
       "      <td>3.88</td>\n",
       "    </tr>\n",
       "    <tr>\n",
       "      <th>Himachal Pradesh</th>\n",
       "      <td>264</td>\n",
       "      <td>233.0</td>\n",
       "      <td>4.29</td>\n",
       "      <td>4.11</td>\n",
       "    </tr>\n",
       "    <tr>\n",
       "      <th>Goa</th>\n",
       "      <td>127</td>\n",
       "      <td>89.0</td>\n",
       "      <td>3.30</td>\n",
       "      <td>2.56</td>\n",
       "    </tr>\n",
       "    <tr>\n",
       "      <th>Chandigarh</th>\n",
       "      <td>110</td>\n",
       "      <td>68.0</td>\n",
       "      <td>4.74</td>\n",
       "      <td>4.63</td>\n",
       "    </tr>\n",
       "    <tr>\n",
       "      <th>Kashmir</th>\n",
       "      <td>102</td>\n",
       "      <td>19.0</td>\n",
       "      <td>4.38</td>\n",
       "      <td>4.16</td>\n",
       "    </tr>\n",
       "    <tr>\n",
       "      <th>Pondicherry</th>\n",
       "      <td>25</td>\n",
       "      <td>5.0</td>\n",
       "      <td>2.92</td>\n",
       "      <td>3.40</td>\n",
       "    </tr>\n",
       "    <tr>\n",
       "      <th>Eastern Region</th>\n",
       "      <td>15</td>\n",
       "      <td>1.0</td>\n",
       "      <td>2.80</td>\n",
       "      <td>2.00</td>\n",
       "    </tr>\n",
       "    <tr>\n",
       "      <th>Dadra and Nagar Haveli</th>\n",
       "      <td>15</td>\n",
       "      <td>5.0</td>\n",
       "      <td>3.27</td>\n",
       "      <td>4.00</td>\n",
       "    </tr>\n",
       "    <tr>\n",
       "      <th>Chhukha</th>\n",
       "      <td>15</td>\n",
       "      <td>6.0</td>\n",
       "      <td>2.47</td>\n",
       "      <td>3.33</td>\n",
       "    </tr>\n",
       "    <tr>\n",
       "      <th>Nagaland</th>\n",
       "      <td>12</td>\n",
       "      <td>NaN</td>\n",
       "      <td>3.58</td>\n",
       "      <td>NaN</td>\n",
       "    </tr>\n",
       "    <tr>\n",
       "      <th>Adis Abeba</th>\n",
       "      <td>10</td>\n",
       "      <td>NaN</td>\n",
       "      <td>3.30</td>\n",
       "      <td>NaN</td>\n",
       "    </tr>\n",
       "    <tr>\n",
       "      <th>Central Region</th>\n",
       "      <td>8</td>\n",
       "      <td>NaN</td>\n",
       "      <td>2.88</td>\n",
       "      <td>NaN</td>\n",
       "    </tr>\n",
       "    <tr>\n",
       "      <th>Sikkim</th>\n",
       "      <td>7</td>\n",
       "      <td>NaN</td>\n",
       "      <td>3.14</td>\n",
       "      <td>NaN</td>\n",
       "    </tr>\n",
       "    <tr>\n",
       "      <th>Meghalaya</th>\n",
       "      <td>5</td>\n",
       "      <td>NaN</td>\n",
       "      <td>1.20</td>\n",
       "      <td>NaN</td>\n",
       "    </tr>\n",
       "    <tr>\n",
       "      <th>Arunachal Pradesh</th>\n",
       "      <td>5</td>\n",
       "      <td>6.0</td>\n",
       "      <td>3.20</td>\n",
       "      <td>1.50</td>\n",
       "    </tr>\n",
       "    <tr>\n",
       "      <th>Tripura</th>\n",
       "      <td>4</td>\n",
       "      <td>3.0</td>\n",
       "      <td>5.00</td>\n",
       "      <td>5.00</td>\n",
       "    </tr>\n",
       "    <tr>\n",
       "      <th>Samchi</th>\n",
       "      <td>1</td>\n",
       "      <td>6.0</td>\n",
       "      <td>5.00</td>\n",
       "      <td>5.00</td>\n",
       "    </tr>\n",
       "    <tr>\n",
       "      <th>Manipur</th>\n",
       "      <td>1</td>\n",
       "      <td>NaN</td>\n",
       "      <td>1.00</td>\n",
       "      <td>NaN</td>\n",
       "    </tr>\n",
       "  </tbody>\n",
       "</table>\n",
       "</div>"
      ],
      "text/plain": [
       "                        April     May  April_Rating  May_Rating\n",
       "State Name                                                     \n",
       "Maharashtra              9329  4610.0          3.37        3.46\n",
       "West Bengal              4340  2033.0          3.59        3.68\n",
       "Uttar Pradesh            4128  2037.0          3.68        3.73\n",
       "Tamil Nadu               3754  1367.0          3.62        3.86\n",
       "Karnataka                3629  1742.0          3.53        3.82\n",
       "Gujarat                  3015  1268.0          3.45        3.29\n",
       "Telangana                2794  1938.0          3.64        3.52\n",
       "NCT                      2682  1209.0          3.12        3.19\n",
       "Odisha                   2008   672.0          3.94        3.66\n",
       "Madhya Pradesh           1713   456.0          3.39        3.22\n",
       "Haryana                  1705  1031.0          3.44        3.16\n",
       "Andhra Pradesh           1623   908.0          3.28        3.75\n",
       "Kerala                   1439   685.0          2.86        2.73\n",
       "Rajasthan                1167  1049.0          2.79        3.12\n",
       "Bihar                     860   649.0          3.60        2.60\n",
       "Assam                     668   306.0          4.36        4.63\n",
       "Chhattisgarh              532   255.0          3.70        3.71\n",
       "Jharkhand                 486   354.0          3.64        3.55\n",
       "Punjab                    474   156.0          4.00        4.21\n",
       "Uttarakhand               298   123.0          3.58        3.88\n",
       "Himachal Pradesh          264   233.0          4.29        4.11\n",
       "Goa                       127    89.0          3.30        2.56\n",
       "Chandigarh                110    68.0          4.74        4.63\n",
       "Kashmir                   102    19.0          4.38        4.16\n",
       "Pondicherry                25     5.0          2.92        3.40\n",
       "Eastern Region             15     1.0          2.80        2.00\n",
       "Dadra and Nagar Haveli     15     5.0          3.27        4.00\n",
       "Chhukha                    15     6.0          2.47        3.33\n",
       "Nagaland                   12     NaN          3.58         NaN\n",
       "Adis Abeba                 10     NaN          3.30         NaN\n",
       "Central Region              8     NaN          2.88         NaN\n",
       "Sikkim                      7     NaN          3.14         NaN\n",
       "Meghalaya                   5     NaN          1.20         NaN\n",
       "Arunachal Pradesh           5     6.0          3.20        1.50\n",
       "Tripura                     4     3.0          5.00        5.00\n",
       "Samchi                      1     6.0          5.00        5.00\n",
       "Manipur                     1     NaN          1.00         NaN"
      ]
     },
     "execution_count": 44,
     "metadata": {},
     "output_type": "execute_result"
    }
   ],
   "source": [
    "#Объединим информацию о количестве и средней оценки по региону\n",
    "State_Name = State_Name_count.join(State_Name_Rating, rsuffix='State Name')\n",
    "State_Name.rename(columns={'AprilState Name': 'April_Rating', 'MayState Name': 'May_Rating'}, inplace=True)\n",
    "State_Name"
   ]
  },
  {
   "cell_type": "code",
   "execution_count": 63,
   "metadata": {},
   "outputs": [
    {
     "data": {
      "text/plain": [
       "<AxesSubplot:xlabel='May', ylabel='May_Rating'>"
      ]
     },
     "execution_count": 63,
     "metadata": {},
     "output_type": "execute_result"
    },
    {
     "data": {
      "image/png": "[encoded data removed]",
      "text/plain": [
       "<Figure size 792x360 with 1 Axes>"
      ]
     },
     "metadata": {
      "needs_background": "light"
     },
     "output_type": "display_data"
    }
   ],
   "source": [
    "data = State_Name\n",
    "sns.scatterplot(data=data, x=\"May\", y=\"May_Rating\", size=\"May\", legend=False, sizes=(1, 4000))\n",
    "sns.scatterplot(data=data, x=\"April\", y=\"April_Rating\", size=\"April\", legend=False, sizes=(1, 4000))\n"
   ]
  },
  {
   "cell_type": "markdown",
   "metadata": {},
   "source": [
    "Распределение регионов по средней оценки и количеству оценок"
   ]
  },
  {
   "cell_type": "code",
   "execution_count": 73,
   "metadata": {},
   "outputs": [
    {
     "data": {
      "text/plain": [
       "<AxesSubplot:ylabel='State Name'>"
      ]
     },
     "execution_count": 73,
     "metadata": {},
     "output_type": "execute_result"
    },
    {
     "data": {
      "image/png": "[encoded data removed]",
      "text/plain": [
       "<Figure size 792x360 with 2 Axes>"
      ]
     },
     "metadata": {
      "needs_background": "light"
     },
     "output_type": "display_data"
    }
   ],
   "source": [
    "sns.heatmap(State_Name)"
   ]
  },
  {
   "cell_type": "markdown",
   "metadata": {},
   "source": [
    "Вывод: По количеству оценок выделяются 14 регионов, оценок в апреле более 1000. В мае произошло снижение количества оценок по всем регионам."
   ]
  },
  {
   "cell_type": "code",
   "execution_count": null,
   "metadata": {},
   "outputs": [],
   "source": []
  }
 ],
 "metadata": {
  "kernelspec": {
   "display_name": "Python 3",
   "language": "python",
   "name": "python3"
  },
  "language_info": {
   "codemirror_mode": {
    "name": "ipython",
    "version": 3
   },
   "file_extension": ".py",
   "mimetype": "text/x-python",
   "name": "python",
   "nbconvert_exporter": "python",
   "pygments_lexer": "ipython3",
   "version": "3.8.5"
  }
 },
 "nbformat": 4,
 "nbformat_minor": 4
}
